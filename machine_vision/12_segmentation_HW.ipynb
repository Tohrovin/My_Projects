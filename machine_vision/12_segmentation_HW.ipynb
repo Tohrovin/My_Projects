{
  "cells": [
    {
      "cell_type": "markdown",
      "metadata": {
        "collapsed": false,
        "pycharm": {
          "name": "#%% md\n"
        },
        "id": "iyhAnDKewM0w"
      },
      "source": [
        "## Zadanie domowe: Segmentacja przez podział i łączenie\n",
        "\n",
        "Omówioną procedurę segmentacji przez rozrost można określić jako podejście z dołu do góry, od szczegółu do ogółu (ang. *bottom-up*) - zaczynamy od pojedynczego piksela i dochodzimy do całego obrazu lub jego fragmentu.\n",
        "Segmentację można również zacząć od całego obrazka i dokonywać jego podziału na fragmenty, które ew. mogą zostać później połączone.\n",
        "Takie podejście można określić jako od góry do dołu, od ogółu do szczegółu (ang. *top-down*).\n",
        "\n",
        "Niech $R$ oznacza cały obraz, a $Q$ wybrany predykat.\n",
        "Sprawdzamy, czy zachodzi zależność $Q(R)= TRUE$.\n",
        "Zwykle tak nie jest, gdyż to oznaczałoby obecność na obrazie tylko jednego obszaru o ''spójnych'' właściwościach, czyli segmentacja w takim przypadku byłaby zbędna (w szczególności zachodziłoby to dla obrazu jednorodnego).\n",
        "Jeśli $Q(R) = FALSE$ dzielimy obszar $R$ na podobszary.\n",
        "Zwykle stosuje się tutaj podział na cztery jednakowe kwadratowe podobszary.\n",
        "Zilustrowano to na poniższym rysunku.\n",
        "\n",
        "![Przykład podziału obrazu na kwadratowe podobszary](https://raw.githubusercontent.com/vision-agh/poc_sw/master/12_Segmentation/image_split.png)\n",
        "\n",
        "Podział ten można również opisać w formie drzewa, gdzie każdy wierzchołek może mieć dokładnie 4 następniki.\n",
        "W takim ujęciu korzeń to cały obraz.\n",
        "Dla nowo powstałych podobszrów $R_1, R_2, R_3, R_4$ sprawdzany jest predykat $Q$.\n",
        "Jeśli nie jest on spełniony to następuje dalszy podział - w przykładzie na $R_{41}, R_{42}, R_{43}, R_{44}$.\n",
        "Procedurę kontynuujemy do momentu kiedy wszystkie podobszary będą spójne.\n",
        "Uwaga. Zwykle określa się minimalny rozmiar podobszaru (większy niż 1 piksel np. blok o rozmiarze $8 \\times8$).\n",
        "\n",
        "W wyniku powyższej procedury otrzymujemy podział obrazka, przy czym często się może zdarzyć, że leżące obok siebie podobszary będą spełniać predykat tj. $Q (R_i \\cup R_j) = TRUE$ dla sąsiadujących $R_i$ i $R_j$.\n",
        "Jest to sprzeczne z podpunktem *5* w warunkach segmentacji.\n",
        "Zjawisko to eliminowane jest w procedurze łączenia.\n",
        "Dla każdego z podobszarów sprawdza się jego sąsiadów i jeśli spełniony jest warunek $Q (R_i \\cup R_j) = TRUE$  to następuje ich połączenie.\n",
        "Procedura kontynuowana jest do momentu, kiedy niemożliwe jest dalsze łączenie.\n",
        "\n",
        "Dla metody możliwe są również uproszczenia.\n",
        "Przykładowo osłabia się warunek na łączenie z $Q (R_i \\cup R_j) = TRUE$ na $Q (R_i)= TRUE i Q(R_j) = TRUE$, czyli warunki muszą być spełnione dla każdego podobszaru osobno, ale już nie dla połączenia.\n",
        "\n",
        "\n",
        "Uwaga. Podobnie jak dla segmentacji przez rozrost, segmentacja przez podział i łączenie to też tylko pewna koncepcja (pewne ramy) algorytmu.\n",
        "Stworzenie konkretnego rozwiązania jest zadaniem dla osoby realizującej dany system wizyjny i wymaga analizy konkretnego problemu.\n",
        "\n",
        "Uwaga. Podany poniżej sposób implementacji nie jest ani jedynym z możliwych, ani optymalnym obliczeniowo.\n",
        "Ma on za zadanie tylko zilustrować koncepcję tej metody segmentacji.\n"
      ]
    },
    {
      "cell_type": "markdown",
      "metadata": {
        "collapsed": false,
        "pycharm": {
          "name": "#%% md\n"
        },
        "id": "esRbXpB6wM00"
      },
      "source": [
        "## Realizacja ćwiczenia\n",
        "\n",
        "1. Wczytaj obraz *umbrella.png*.\n",
        "   Dokonaj konwersji z BGR do RGB.\n",
        "   Wyświetl go.\n",
        "   Załóżmy, że chcemy dokonać segmentacji poszczególnych fragmentów kolorowego parasola.\n",
        "   Nasz algorytm opierać się będzie na podejściu podziału i łączenia.\n",
        "   Jako kryterium podziału zastosujemy ''jednorodność'' danego obszaru, którą można opisać poprzez odchylenie standardowe.\n",
        "   Przy scalaniu będziemy brać pod uwagę średni ocień koloru tj. łączyć podobszary o zbliżonym odcieniu.\n",
        "\n",
        "2. W pierwszym etapie należy dokonać konwersji do przestrzeni barw HSV.\n",
        "   Następnie wybrać tylko składową H (tj. barwę).\n",
        "   Można ją kontrolnie wyświetlić.\n",
        "\n",
        "3. Procedurę podziału wygodnie jest zrealizować w formie rekurencji.\n",
        "   Utwórz funkcję np. `split`, która jako argumenty przyjmować będzie obraz oraz cztery współrzędne analizowanego podobszaru.\n",
        "   W pierwszym kroku należy wyciąć odpowiedni fragment oraz obliczyć dla niego średnią i odchylenie standardowe (`np.mean` oraz `np.std`).\n",
        "\n",
        "4. Następnie sprawdzamy czy odchylenie jest mniejsze niż zadany przez nas próg (np. 0.05) oraz czy nie osiągnęliśmy limitu podziału (np. bok kwadratu 8 pikseli).\n",
        "  Oba potrzebne progi możemy zrealizować za pomocą zmiennych globalnych dostępnych w Python (po prostu zadeklarowanych przed funkcją).\n",
        "  Potrzeby rozmiar kwadratu obliczamy na podstawie współrzędnych (przekazanych do funkcji jako argumenty)\n",
        "\n",
        "   Uwaga. Użycie zmiennych globalnych jest złą praktyką programistyczną i zachęcamy do ''opakowania'' obliczeń w klasę - nie jest to jednak obowiązkowe.\n",
        "\n",
        "5. Jeśli podobszar nie jest jednorodny (tj. duże odchylenie standardowe) i nie osiągnęliśmy minimalnego rozmiaru podobszaru to dokonujemy podziału na cztery części.\n",
        "      Wyznaczamy rozmiar aktualnego podobszaru (na podstawie jego współrzędnych).\n",
        "      Z ich wykorzystaniem otrzymujemy cztery identyczne podobszary ($I1,I2,I3,I4$).\n",
        "\n",
        "      Następnie dla każdego z nich wywołujemy funkcję `split` - rekurencja.\n",
        "      Najtrudniejsze jest odpowiednie podanie współrzędnych.\n",
        "      Mają to być **rzeczywiste** współrzędne podobszaru we współrzędnych globalnych (obrazu w pełnej rozdzielczości).\n",
        "      Podpowiedź. Trzeba ''odpowiednio'' wykorzystać współrzędne podobszaru przed podziałem (tj. argumenty funkcji) oraz rozmiar podobszaru.\n",
        "      Należy zwrócić uwagę na to, aby nie wystąpił błąd przesunięcia o 1 tj. współrzędna była większa/mniejsza o 1 od rzeczywistej.\n",
        "      W razie wątpliwości warto sobie te parametry wypisać na konsolę lub użyć debugera.\n",
        "\n",
        "6. Jeśli podobszar jest jednorodny lub nie możemy już dalej prowadzić podziału to:\n",
        "   - zapisujemy indeks danego podobszaru: ` seg_res[y1:y2, x1:x2] = index`, gdzie: `seg_res` to globalna macierz o rozmiarze takim jak obraz wejściowy (typ *int16*), `y1,y2,x1,x2` to współrzędne podobszaru. W macierzy `seg_res` zapisywane będą obszary jednorodne.\n",
        "  Zmienna `index` jest globalnym licznikiem podobszarów.\n",
        "  Powinna zostać zainicjowana wartością 1 przed pierwszym wywołaniem funkcji `split`.\n",
        "  Następnie, każdorazowo po przypisaniu należy ją inkrementować.\n",
        "  Uwaga. Aby możliwa była modyfikacja zmiennej globalnej, należy wewnątrz funkcji dodać np. linijkę: `global seg_res`\n",
        "\n",
        "  - zapisujemy średnią  podobszaru.\n",
        "    Wykorzystujemy macierz globalną `MRes` oraz kod podobny do opisanego powyżej.\n",
        "    Wartości te wykorzystamy przy etapie scalania.\n",
        "\n",
        "  Uwaga. Podany sposób zapisu wyników podziału jest dość nieefektywny.\n",
        "  Następuje powielenie tej samej informacji.\n",
        "  Lepszym pomysłem byłoby wykorzystanie podejścia opartego o grafy, jednak jest ono trudniejsze do ''szybkiej'' implementacji.\n",
        "\n",
        "7. Proszę wyświetlić macierze `seg_res` in `m_res`. Pierwsza powinna pokazywać podział na obszary - mniejsze lub większe kwadraty. Druga zasadniczo powinna wyglądać podobnie jak składowa H, tylko bardziej ''rozmazany''."
      ]
    },
    {
      "cell_type": "code",
      "execution_count": 91,
      "metadata": {
        "pycharm": {
          "name": "#%%\n"
        },
        "id": "JdFHgeOxwM01",
        "outputId": "1b8a92e4-0d83-4b5c-fc74-4939c8eee6db",
        "colab": {
          "base_uri": "https://localhost:8080/",
          "height": 248
        }
      },
      "outputs": [
        {
          "output_type": "display_data",
          "data": {
            "text/plain": [
              "<Figure size 432x288 with 1 Axes>"
            ],
            "image/png": "[encoded data removed]"
          },
          "metadata": {
            "needs_background": "light"
          }
        }
      ],
      "source": [
        "import os\n",
        "import cv2\n",
        "import matplotlib.pyplot as plt\n",
        "import numpy as np\n",
        "\n",
        "if not os.path.exists(\"umbrella.png\") :\n",
        "    !wget https://raw.githubusercontent.com/vision-agh/poc_sw/master/12_Segmentation/umbrella.png --no-check-certificate\n",
        "    \n",
        "umbrella = cv2.imread('umbrella.png')\n",
        "umbrella_rgb = cv2.cvtColor(umbrella, cv2.COLOR_BGR2RGB)\n",
        "\n",
        "plt.imshow(umbrella_rgb)\n",
        "plt.axis('off')\n",
        "plt.show()"
      ]
    },
    {
      "cell_type": "code",
      "source": [
        "umbrella_hsv = cv2.cvtColor(umbrella, cv2.COLOR_BGR2HSV)\n",
        "umbrella_h = umbrella_hsv[:,:,0]\n",
        "plt.imshow(umbrella_h)\n",
        "plt.show()"
      ],
      "metadata": {
        "colab": {
          "base_uri": "https://localhost:8080/",
          "height": 269
        },
        "id": "OEXyGGzH2nwl",
        "outputId": "c6f632c4-3cee-4f48-923c-4b07a71fc30b"
      },
      "execution_count": 92,
      "outputs": [
        {
          "output_type": "display_data",
          "data": {
            "text/plain": [
              "<Figure size 432x288 with 1 Axes>"
            ],
            "image/png": "[encoded data removed]"
          },
          "metadata": {
            "needs_background": "light"
          }
        }
      ]
    },
    {
      "cell_type": "code",
      "source": [
        "X,Y = umbrella_h.shape\n",
        "thr = 0.05\n",
        "lim = 8\n",
        "seg_res = np.zeros((X, Y)).astype('int16')\n",
        "index = 1\n",
        "Mres = np.zeros((X,Y))\n",
        "\n",
        "def split(img, x1, y1, x2, y2):\n",
        "  global seg_res\n",
        "  global index\n",
        "  global Mres\n",
        "  \n",
        "  area = img[x1:x2+1,y1:y2+1]\n",
        "  area_mean = np.mean(area)\n",
        "  area_std = np.std(area)\n",
        "  Xar, Yar = area.shape\n",
        "\n",
        "  if area_std >= thr and Xar > lim:\n",
        "    x12 = x2-x1\n",
        "    y12 = y2-y1\n",
        "    \n",
        "    split(img,x1,y1,x2-x12//2,y2-y12//2)\n",
        "    split(img,x1+x12//2,y1,x2,y2-y12//2)\n",
        "    split(img,x1,y1+x12//2,x2-y12//2,y2)\n",
        "    split(img,x1+x12//2,y1+y12//2,x2,y2)\n",
        "  else:\n",
        "    seg_res[y1:y2, x1:x2] = index\n",
        "    index+=1\n",
        "    Mres[y1:y2, x1:x2] = np.mean(img[y1:y2, x1:x2])\n",
        "\n",
        "\n",
        "split(umbrella_h,0,0,X,Y)\n",
        "\n",
        "plt.imshow(Mres)\n",
        "plt.axis('off')\n",
        "plt.title('MRes')\n",
        "plt.show()\n",
        "\n",
        "plt.imshow(seg_res)\n",
        "plt.axis('off')\n",
        "plt.title('seg_res')\n",
        "plt.show()"
      ],
      "metadata": {
        "id": "acuIspr75KCc",
        "colab": {
          "base_uri": "https://localhost:8080/",
          "height": 511
        },
        "outputId": "5abea05e-7ef1-4ea9-98cc-6c7225c72b0c"
      },
      "execution_count": 129,
      "outputs": [
        {
          "output_type": "display_data",
          "data": {
            "text/plain": [
              "<Figure size 432x288 with 1 Axes>"
            ],
            "image/png": "[encoded data removed]"
          },
          "metadata": {
            "needs_background": "light"
          }
        },
        {
          "output_type": "display_data",
          "data": {
            "text/plain": [
              "<Figure size 432x288 with 1 Axes>"
            ],
            "image/png": "[encoded data removed]"
          },
          "metadata": {
            "needs_background": "light"
          }
        }
      ]
    },
    {
      "cell_type": "markdown",
      "metadata": {
        "collapsed": false,
        "id": "c1FM05j1wM02"
      },
      "source": [
        "1. Drugi etap to łączenie.\n",
        "   Idea jest nieco zbliżona do segmentacji przez rozrost.\n",
        "   Wybieramy dany podobszar i analizujemy sąsiednie podobszary\n",
        "   Jeśli są one podobne to dołączamy je do aktualnie rozpatrywanego.\n",
        "   Za kryterium podobieństwa przyjmujemy niewielką różnicę w uśrednionym odcieniu barwy (składowa H).\n",
        "\n",
        "2. Procedurę realizujemy wewnątrz pętli `while`.\n",
        "   Warunkiem jej stopu jest przekroczenie przez licznik (np. `i`) wartości `index`, co oznacza, że przeanalizowane zostały wszystkie znalezione w pierwszym etapie podobszary.\n",
        "\n",
        "3. W pierwszym kroku ''wycinamy'' maskę pikseli o rozpatrywanym indeksie tj. `ib = seg_res == i`.\n",
        "   Dokonujemy też konwersji na typ *uint8*.\n",
        "   Następnie sprawdzamy, czy maska zawiera elementy niezerowe tj. czy nie jest ''pusta'' - `np.any`.\n",
        "   Taki przypadek może zajść jeśli pewien podobszar został dołączony do innego i zmienione zostały jego indeksy.\n",
        "   Dla ''pustej'' maski inkrementujemy licznik `i` i przechodzimy do następnej iteracji - `continue`.\n",
        "\n",
        "4. Dla rozpatrywanego podobszaru znajdujemy współrzędną lewego górnego rogu.\n",
        "   Można to zrobić z wykorzystaniem składni: `(y, x) = np.nonzero(ib)` oraz  `first = (y[0], x[0])` - znajdywanie współrzędnych pierwszego niezerowego elementu.\n",
        "\n",
        "5. Następnie należy znaleźć sąsiadów rozpatrywanego obszaru.\n",
        "   Można wykorzystać dylatację maski ``ib`` z elementem strukturalnym w postaci kwadratu o rozmiarze $3 \\times 3$ - `dil = cv2.dilate(ib, cv2.getStructuringElement(cv2.MORPH_RECT,(3,3)))`\n",
        "      Następnie od maski po dylatacji odejmujemy maskę oryginalną.\n",
        "      Otrzymujemy ''ramkę'', którą wykorzystujemy do ''wycięcia'' (mnożenie punktowe) fragmentu z macierzy `seg_res`.\n",
        "      Z tego fragmentu wybieramy elementy niezerowe (np. w ten sposób `mult_nz = mult[np.nonzero(mult)]`) i unikalne (tj. eliminacja duplikatów) - `mult_uniq = np.unique(mult_nz)`.\n",
        "\n",
        "6. Mając wektor z indeksami sąsiadów realizujemy pętlę w której dla każdego sąsiada:\n",
        "    - wycinamy opowiadającą mu maską i znajdujemy jej lewy górny róg - w sposób analogiczny do opisanego powyżej,\n",
        "\t- sprawdzamy, czy moduł z różnicy pomiędzy średnimi odcieniami barwy w dwóch analizowanych podobszarach jest mniejszy od progu (np. $5/255$). Jeśli tak to łączymy obszary tj. sąsiadowi przypisujemy indeks rozpatrywanego  `seg_res[ibs] = i`, gdzie `ibs` - maska podobszaru sąsiedniego.\n",
        "\tDo poprawnego działania konieczna jest jeszcze flaga informująca czy nastąpiło połączenie.\n",
        "\tJej wartość ustawiamy na 0 przed pętlą po sąsiednich podobszarach.\n",
        "\tJeśli wystąpiło połączenie to wartość ustawiamy na jeden.\n",
        "\n",
        "\tPo pętli po sąsiadach sprawdzamy flagę.\n",
        "\tJeśli ma ona wartość 0 tj. nie nastąpiło połączenie obszarów to licznik\t`i` jest inkrementowany.\n",
        "\n",
        "7. Uwaga. Obliczenia mogą chwilę trwać.\n",
        "   Proszę wyświetlić macierz `seg_res`.\n",
        "   Jeśli implementacja jest poprawna, to wynik segmentacji powinien być względnie dobry - wszystkie elementy parasolki wyodrębnione.\n"
      ]
    },
    {
      "cell_type": "code",
      "execution_count": 130,
      "metadata": {
        "pycharm": {
          "name": "#%%\n"
        },
        "id": "njgyxvs2wM03"
      },
      "outputs": [],
      "source": [
        "##niestety coś nie działa i nie wiem co. A może działa tylko to tyl się liczy? Nie wiem\n",
        "i = 0\n",
        "while (i < index):\n",
        "  ib = seg_res == i\n",
        "  ib = ib.astype('uint8')\n",
        "\n",
        "  if not np.any(ib):\n",
        "    i+=1\n",
        "    continue\n",
        "  (y, x) = np.nonzero(ib)\n",
        "  first = (y[0], x[0])\n",
        "  dil = cv2.dilate(ib, cv2.getStructuringElement(cv2.MORPH_RECT,(3,3)))\n",
        "  diff = dil - ib\n",
        "  mult = np.multiply(seg_res,diff)\n",
        "  mult_nz = mult[np.nonzero(mult)]\n",
        "  mult_uniq = np.unique(mult_nz)\n",
        "\n",
        "  flag = 0\n",
        "  for j in mult_uniq:\n",
        "    \n",
        "    ibs = seg_res == j\n",
        "    ibs = ibs.astype('uint8')\n",
        "\n",
        "    (y2, x2) = np.nonzero(ibs)\n",
        "    first2 = (y2[0], x2[0])\n",
        "\n",
        "    if(np.abs(np.mean(np.multiply(umbrella_h,ib))- np.mean(np.multiply(umbrella_h,ibs))) < 5/255):\n",
        "      seg_res[ibs] = i\n",
        "      flag = 1    \n",
        "\n",
        "  if(flag == 0):\n",
        "      i+=1\n"
      ]
    },
    {
      "cell_type": "code",
      "source": [
        "plt.imshow(seg_res)\n",
        "plt.axis('off')\n",
        "plt.title('seg_res')\n",
        "plt.show()"
      ],
      "metadata": {
        "id": "BtL9z6LKtN-n",
        "colab": {
          "base_uri": "https://localhost:8080/",
          "height": 264
        },
        "outputId": "ea5544bb-740a-4e66-cb57-9de733df68dd"
      },
      "execution_count": 132,
      "outputs": [
        {
          "output_type": "display_data",
          "data": {
            "text/plain": [
              "<Figure size 432x288 with 1 Axes>"
            ],
            "image/png": "[encoded data removed]"
          },
          "metadata": {
            "needs_background": "light"
          }
        }
      ]
    },
    {
      "cell_type": "markdown",
      "metadata": {
        "collapsed": false,
        "pycharm": {
          "name": "#%% md\n"
        },
        "id": "og6HBUnZwM03"
      },
      "source": [
        "8. Na koniec zastosujemy jeszcze dwie proste metody filtracji wyników.\n",
        "   Po pierwsze wyeliminujemy obszary o rozmiarze mniejszym niż zadany (np. 100 pikseli).\n",
        "   W tym celu wyznaczamy wektor unikalnych indeksów: `unique = np.unique(seg_res)`.\n",
        "   Następnie implementujemy pętlę `for` po tych indeksach.\n",
        "   Wewnątrz wycinamy maskę dla rozpatrywanego indeksu i obliczamy jej pole (`sum`).\n",
        "   Jeśli jest ono mniejsze niż próg to cały podobszar ''zerujemy'' - `seg_res[mask] = 0`, gdzie `mask` - maska podobszaru.\n",
        "\n",
        "9. W drugim kroku przeprowadzamy przeindeksowanie indeksów na pierwsze N liczb całkowitych.\n",
        "   Ponownie wyznaczamy unikalne indeksy.\n",
        "   Następnie w pętli `for` wycinamy maskę o indeksie `U(ii)`, a do wyniku przypisujemy iterator pętli `seg_res[mask] = ii`.\n",
        "\n",
        "10. Proszę poeksperymentować z różnymi parametrami.\n",
        "    Wyniki proszę zamieścić w notebooku."
      ]
    },
    {
      "cell_type": "code",
      "execution_count": 133,
      "metadata": {
        "pycharm": {
          "name": "#%%\n"
        },
        "id": "qrkI0CZUwM03",
        "colab": {
          "base_uri": "https://localhost:8080/",
          "height": 248
        },
        "outputId": "ecec5569-52f3-4efc-8dc2-a4120079644a"
      },
      "outputs": [
        {
          "output_type": "display_data",
          "data": {
            "text/plain": [
              "<Figure size 432x288 with 1 Axes>"
            ],
            "image/png": "[encoded data removed]"
          },
          "metadata": {
            "needs_background": "light"
          }
        }
      ],
      "source": [
        "trh = 100\n",
        "unique = np.unique(seg_res)\n",
        "\n",
        "\n",
        "for i in unique:\n",
        "    mask = seg_res == i\n",
        "    mask = mask.astype('uint8')\n",
        "    summ = np.sum(mask)\n",
        "    if summ < trh:\n",
        "        seg_res[mask] = 0\n",
        "\n",
        "unique = np.unique(seg_res)\n",
        "index=0\n",
        "\n",
        "\n",
        "for ii in unique:\n",
        "    mask2 = seg_res == ii\n",
        "    mask2 = mask2.astype('uint8')\n",
        "    seg_res[mask2] = index\n",
        "    index=+1\n",
        "\n",
        "plt.imshow(seg_res)\n",
        "plt.axis('off')\n",
        "plt.show()\n"
      ]
    }
  ],
  "metadata": {
    "kernelspec": {
      "display_name": "Python 3",
      "language": "python",
      "name": "python3"
    },
    "language_info": {
      "codemirror_mode": {
        "name": "ipython",
        "version": 2
      },
      "file_extension": ".py",
      "mimetype": "text/x-python",
      "name": "python",
      "nbconvert_exporter": "python",
      "pygments_lexer": "ipython2",
      "version": "2.7.6"
    },
    "colab": {
      "name": "12_segmentation_HW.ipynb",
      "provenance": [],
      "collapsed_sections": []
    }
  },
  "nbformat": 4,
  "nbformat_minor": 0
}