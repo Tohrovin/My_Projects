{
  "cells": [
    {
      "cell_type": "markdown",
      "metadata": {
        "pycharm": {
          "name": "#%% md\n"
        },
        "id": "83MNboqC4T65"
      },
      "source": [
        "# Histogram obrazu. Wyrównywanie histogramu."
      ]
    },
    {
      "cell_type": "markdown",
      "source": [
        "## Cel ćwiczenia\n",
        "\n",
        "- Zapoznanie z pojęciem histogramu obrazu (w odcieniach szarości i kolorze).\n",
        "- Zapoznanie z metodami modyfikacji histogramu (rozciąganie, wyrównywanie, dopasowywanie)."
      ],
      "metadata": {
        "collapsed": false,
        "pycharm": {
          "name": "#%% md\n"
        },
        "id": "SwfJ2Qar4T69"
      }
    },
    {
      "cell_type": "markdown",
      "source": [
        "## Histogram\n",
        "\n",
        "- Histogramem obrazu nazywamy wykres słupkowy zdefiniowany następującymi zależnościami:<br>\n",
        "\\begin{equation}\n",
        "h(i) = \\sum_{x=0}^{N-1} \\sum_{y=0}^{M-1} p(i,(x,y))\n",
        "\\end{equation}<br>\n",
        "gdzie:<br>\n",
        "\\begin{equation}\n",
        "p(i) =  \\left\\{\n",
        "  \\begin{array}{l l}\n",
        "    1 & \\quad \\text{gdy} f(x,y) = i\\\\\n",
        "    0 & \\quad \\text{gdy} f(x,y) \\ne i\n",
        "  \\end{array} \\right.\n",
        "\\end{equation}\n",
        "\n",
        "- Inaczej mówiąc, histogram zawiera informacje na temat tego ile pikseli o danym poziomie jasności występuje na obrazie (w przypadku obrazu w odcieniach szarości). Określa się to także rozkładem empirycznym cechy.\n",
        "\n",
        "- Często wykorzystuje się tzw. znormalizowaną postać histogramu  – wszystkie wartości $h(i)$ są dzielone przez liczbę pikseli na obrazie.\n",
        "Otrzymana w ten sposób wielkość to gęstość prawdopodobieństwa wystąpienia na obrazie pikseli o odcieniu $i$.\n",
        "\n",
        "- Histogram można zdefiniować również dla obrazów kolorowych.\n",
        "Otrzymujemy wtedy 3 histogramy – po jednym dla danej składowej: R,G,B (lub HSV, YCbCr, itp.) lub histogram trójwymiarowy.\n",
        "\n",
        "- Histogram jest bardzo użyteczny w przetwarzaniu i analizie obrazów.\n",
        "Wykorzystywany jest przy binaryzacji (szerzej na jednym z kolejnych laboratoriów) oraz do oceny jakości (dynamiki, kontrastu) obrazu.\n",
        "W idealnym przypadku wszystkie poziomy jasności w obrazie powinny być wykorzystane (i to najlepiej w miarę jednolicie)  – obrazowo mówiąc histogram powinien rozciągać się od 0  – 255 (obraz w skali szarości).\n",
        "\n",
        "- W przypadku gdy  wykorzystujemy jedynie fragment dostępnego zakresu (wąski histogram)  lub histogram nie jest jednolity (występują dominujące grupy pikseli) obraz ma dość słaby kontrast.\n",
        "Cechę tę można poprawić stosując tzw. rozciąganie albo wyrównywanie histogramu (ang. *histogram equalization*).</div>"
      ],
      "metadata": {
        "collapsed": false,
        "pycharm": {
          "name": "#%% md\n"
        },
        "id": "Eg4YdOoU4T69"
      }
    },
    {
      "cell_type": "markdown",
      "source": [
        "## Histogram dla obrazów w odcieniach szarości\n",
        "\n",
        "1. Zaimportuj potrzebne biblioteki: *OpenCV*, *pyplot* z *matplotlib* i *numpy*.\n",
        "        import cv2\n",
        "        from matplotlib import pyplot as plt\n",
        "        import numpy as np\n",
        "2. Wczytaj obrazy *lenaX.bmp* w skali szarości. *X* jest numerem wczytywanego obrazu (1 - 4).\n",
        "        I = cv2.imread('lenaX.bmp', cv2.IMREAD_GRAYSCALE)\n",
        "3. Oblicz histogram wczytanego obrazu wykorzystując funkcję `cv2.calcHist`.\n",
        "    - Pierwszym argumentem jest obraz, dla którego obliczony zostanie histogram.\n",
        "    Należy go przekazać w nawiasie kwadratowym.\n",
        "    - Drugim argumentem jest numer kanału, dla którego ma zostać obliczony histogram.\n",
        "    Również powinien być przekazany w nawiasie kwadratowym.\n",
        "    - Trzeci argument oznacza maskę, czyli obszar, dla którego ma zostać wyznaczony histogram.\n",
        "    Aby obliczyć dla całego obrazu należy przekazać *None*.\n",
        "    - Czwartym argumentem jest rozmiar histogramu (liczba przedziałów).\n",
        "    Argument powinien być w nawiasie kwadratowym. Dla pełnej skali należy przekazać wartość *256*.\n",
        "    - Ostatnim argumentem jest zakres wartości. Dla obrazów typu *uint8* powinien on wynosić *[0, 256]*.\n",
        "    - Funkcja zwraca obliczony histogram.\n",
        "4. Wyświetl wczytane obrazy i ich histogramy w jednym oknie. Użyj `plt.subplot()` w celu stworzenia siatki wykresów.\n",
        "        figLena, axsLena = plt.subplots(2, 4)\n",
        "Rozmiar utworzonego okna można zmienić wykorzystując instrukcję (uwaga w calach -  1 cal to 2.54cm):\n",
        "        figLena.set_size_inches(20, 10)\n",
        "Przykładowe wyświetlenie obrazu:\n",
        "        axsLena[0, 0].imshow(I1, 'gray', vmin=0, vmax=256)\n",
        "        axsLena[0, 0].axis('off')\n",
        "Przykładowe wyświetlenie histogramu:\n",
        "        axsLena[1, 0].plot(H1)\n",
        "        axsLena[1, 0].grid()\n",
        "5. Przeanalizuj (dokładnie) związek histogramu z jasnością i ostrością obrazu (tu rozumianą jako subiektywne odczucie)."
      ],
      "metadata": {
        "collapsed": false,
        "pycharm": {
          "name": "#%% md\n"
        },
        "id": "J_e6lCsG4T6-"
      }
    },
    {
      "cell_type": "code",
      "execution_count": null,
      "metadata": {
        "pycharm": {
          "name": "#%% Zadanie 1 - wyświetlanie\n"
        },
        "id": "9lEgHqf34T6_"
      },
      "outputs": [],
      "source": [
        "import cv2\n",
        "import os\n",
        "from matplotlib import pyplot as plt\n",
        "import numpy as np\n",
        "\n",
        "if not os.path.exists(\"lena1.bmp\") :\n",
        "    !wget https://raw.githubusercontent.com/vision-agh/poc_sw/master/03_Histogram/lena1.bmp --no-check-certificate\n",
        "\n",
        "if not os.path.exists(\"lena2.bmp\") :\n",
        "    !wget https://raw.githubusercontent.com/vision-agh/poc_sw/master/03_Histogram/lena2.bmp --no-check-certificate\n",
        "\n",
        "if not os.path.exists(\"lena3.bmp\") :\n",
        "    !wget https://raw.githubusercontent.com/vision-agh/poc_sw/master/03_Histogram/lena3.bmp --no-check-certificate\n",
        "\n",
        "if not os.path.exists(\"lena4.bmp\") :\n",
        "    !wget https://raw.githubusercontent.com/vision-agh/poc_sw/master/03_Histogram/lena4.bmp --no-check-certificate\n",
        "\n"
      ]
    },
    {
      "cell_type": "code",
      "source": [
        "lena1 = cv2.imread('lena1.bmp', cv2.IMREAD_GRAYSCALE)\n",
        "lena2 = cv2.imread('lena2.bmp', cv2.IMREAD_GRAYSCALE)\n",
        "lena3 = cv2.imread('lena3.bmp', cv2.IMREAD_GRAYSCALE)\n",
        "lena4 = cv2.imread('lena4.bmp', cv2.IMREAD_GRAYSCALE)\n",
        "\n",
        "H1 = cv2.calcHist([lena1],[0],None,[256],[0,256])\n",
        "H2 = cv2.calcHist([lena2],[0],None,[256],[0,256])\n",
        "H3 = cv2.calcHist([lena3],[0],None,[256],[0,256])\n",
        "H4 = cv2.calcHist([lena4],[0],None,[256],[0,256])\n",
        "\n",
        "\n",
        "figLena, axsLena = plt.subplots(2, 4)\n",
        "\n",
        "figLena.set_size_inches(20, 10)\n",
        "axsLena[0, 0].imshow(lena1, 'gray', vmin=0, vmax=256)\n",
        "axsLena[0, 0].axis('off')\n",
        "axsLena[1, 0].plot(H1)\n",
        "axsLena[1, 0].grid()\n",
        "axsLena[0, 0].set_title(\"lena 1\")\n",
        "\n",
        "axsLena[0, 1].imshow(lena2, 'gray', vmin=0, vmax=256)\n",
        "axsLena[0, 1].axis('off')\n",
        "axsLena[1, 1].plot(H2)\n",
        "axsLena[1, 1].grid()\n",
        "axsLena[0, 1].set_title(\"lena 2\")\n",
        "\n",
        "axsLena[0, 2].imshow(lena3, 'gray', vmin=0, vmax=256)\n",
        "axsLena[0, 2].axis('off')\n",
        "axsLena[1, 2].plot(H3)\n",
        "axsLena[1, 2].grid()\n",
        "axsLena[0, 2].set_title(\"lena 3\")\n",
        "\n",
        "axsLena[0, 3].imshow(lena4, 'gray', vmin=0, vmax=256)\n",
        "axsLena[0, 3].axis('off')\n",
        "axsLena[1, 3].plot(H4)\n",
        "axsLena[1, 3].grid()\n",
        "axsLena[0, 3].set_title(\"lena 4\")\n",
        "\n"
      ],
      "metadata": {
        "id": "i5vxilPq5bGl"
      },
      "execution_count": null,
      "outputs": []
    },
    {
      "cell_type": "code",
      "source": [
        "#im więcej piskeli o podobnej jasności, tym bardziej widoczna jest ta jasność na histogramie. Lena2 ma mały kontrast - brak pikseli jaśniejszych i ciemniejszych, i to można odczytac na histogramie - \n",
        "#wykres jest w prewnym sensie zciśnięty dla wartości jasności tej szarości. Obraz lena3 jest \"wybieony\", co też widać na histogramie - ilość pikseli dla dużych jasności (białych) zdecydowanie góruje nad ciemniejszymi pikselami.\n",
        "#Analogicznie z histogramu obrazu lena 4, mozna odczytać bardzo dużą przewagę ilości pikseli ciemnych (czarnych) nad wszystkimi innymi - obraz jest \"zaciemniony\""
      ],
      "metadata": {
        "id": "ui-OYCae8N91"
      },
      "execution_count": null,
      "outputs": []
    },
    {
      "cell_type": "markdown",
      "source": [
        "## Rozciąganie histogramu\n",
        "\n",
        "Najprostszą metodą poprawienia jakości obrazu jest tzw. rozciągnięcie histogramu.\n",
        "Polega na przeskalowaniu wartości pikseli w obrazie tak, aby wykorzystać cały dostępny zakres [0-255] (oczywiście w przypadku obrazów w odcieniach szarości w reprezentacji 8-bitowej).\n",
        "\n",
        "1. Wczytaj obraz *hist1.bmp* w skali szarości.\n",
        "Oblicz i wyświetl histogram rozpatrywanego obrazu (na wspólnym rysunku z obrazem).\n",
        "Zwróć uwagę na ilość widocznych szczegółów.\n",
        "2. Rozciągnij histogram obrazu. W tym celu można wykorzystać funkcję `cv2.normalize`.\n",
        "    - Pierwszym argumentem funkcji jest obraz poddawany operacji.\n",
        "    - Drugim argumentem jest tablica do której zostanie wpisany wynik.\n",
        "    Należy ją najpierw zainicjalizować.\n",
        "    Najlepiej zrobić to funkcją `np.zeros`, której pierwszym argumentem jest rozmiar obrazu (`I.shape`), a drugim typ danych (`uint8`).\n",
        "    Można również przekazać `None`, a wynik przypisać do nowej zmiennej.\n",
        "    - Trzecim argumentem jest minimalna wartość po normalizacji.\n",
        "    - Czwartym argumentem jest wartość maksymalna po normalizacji.\n",
        "    - Ostatnim argumentem jest typ wykorzystanej normy (uogólnienie pojęcia długości wektora).\n",
        "    Należy wykorzystać normę `cv2.NORM_MINMAX`.\n",
        "3. Rezultat operacji wyświetl (obraz i jego histogram).\n",
        "4. Czy ilość \"widocznych\" szczegółów uległa zmianie?"
      ],
      "metadata": {
        "collapsed": false,
        "pycharm": {
          "name": "#%% md\n"
        },
        "id": "YyYWHbKf4T7B"
      }
    },
    {
      "cell_type": "code",
      "execution_count": null,
      "outputs": [],
      "source": [
        "if not os.path.exists(\"hist1.bmp\") :\n",
        "    !wget https://raw.githubusercontent.com/vision-agh/poc_sw/master/03_Histogram/hist1.bmp --no-check-certificate\n",
        "\n",
        "if not os.path.exists(\"hist2.bmp\") :\n",
        "    !wget https://raw.githubusercontent.com/vision-agh/poc_sw/master/03_Histogram/hist2.bmp --no-check-certificate\n",
        "\n",
        "if not os.path.exists(\"hist3.bmp\") :\n",
        "    !wget https://raw.githubusercontent.com/vision-agh/poc_sw/master/03_Histogram/hist3.bmp --no-check-certificate\n",
        "\n",
        "if not os.path.exists(\"hist4.bmp\") :\n",
        "    !wget https://raw.githubusercontent.com/vision-agh/poc_sw/master/03_Histogram/hist4.bmp --no-check-certificate\n"
      ],
      "metadata": {
        "pycharm": {
          "name": "#%% Zadanie 2 - rozciąganie\n"
        },
        "id": "Lbml0l1y4T7B"
      }
    },
    {
      "cell_type": "code",
      "source": [
        "I1 = cv2.imread('hist1.bmp')\n",
        "I2 = cv2.imread('hist2.bmp')\n",
        "I3 = cv2.imread('hist3.bmp')\n",
        "I4 = cv2.imread('hist4.bmp')\n",
        "\n",
        "H1 = cv2.calcHist([I1],[0],None,[256],[0,256])\n",
        "H2 = cv2.calcHist([I2],[0],None,[256],[0,256])\n",
        "H3 = cv2.calcHist([I3],[0],None,[256],[0,256])\n",
        "H4 = cv2.calcHist([I4],[0],None,[256],[0,256])\n",
        "\n",
        "\n",
        "fig, axs = plt.subplots(1, 2)\n",
        "\n",
        "fig.set_size_inches(10, 5)\n",
        "axs[0].imshow(I1, 'gray', vmin=0, vmax=256)\n",
        "axs[0].axis('off')\n",
        "axs[1].plot(H1)\n",
        "axs[1].grid()\n",
        "axs[0].set_title(\"hist 1\")\n",
        "\n",
        "# axs[0, 1].imshow(I2, 'gray', vmin=0, vmax=256)\n",
        "# axs[0, 1].axis('off')\n",
        "# axs[1, 1].plot(H2)\n",
        "# axs[1, 1].grid()\n",
        "# axs[0, 1].set_title(\"hist 2\")\n",
        "\n",
        "# axs[0, 2].imshow(I3, 'gray', vmin=0, vmax=256)\n",
        "# axs[0, 2].axis('off')\n",
        "# axs[1, 2].plot(H3)\n",
        "# axs[1, 2].grid()\n",
        "# axs[0, 2].set_title(\"hist 3\")\n",
        "\n",
        "# axs[0, 3].imshow(I4, 'gray', vmin=0, vmax=256)\n",
        "# axs[0, 3].axis('off')\n",
        "# axs[1, 3].plot(H4)\n",
        "# axs[1, 3].grid()\n",
        "# axs[0, 3].set_title(\"hist 4\")\n",
        "\n",
        "plt.show()"
      ],
      "metadata": {
        "id": "xvWtH_Eu-Asq"
      },
      "execution_count": null,
      "outputs": []
    },
    {
      "cell_type": "code",
      "source": [
        "norm1 = np.zeros(I1.shape[0], 'uint8')\n",
        "In1 = cv2.normalize(I1, norm1, 0, 255, cv2.NORM_MINMAX)\n",
        "norm1 = cv2.calcHist([In1],[0],None,[256],[0,256])\n",
        "\n",
        "fig, axs = plt.subplots(1, 2)\n",
        "fig.set_size_inches(10, 5)\n",
        "axs[0].imshow(In1, 'gray', vmin=0, vmax=256)\n",
        "axs[0].axis('off')\n",
        "axs[1].plot(norm1)\n",
        "axs[1].grid()\n",
        "axs[0].set_title(\"hist 1 after normalization\")\n",
        "\n",
        "plt.show()"
      ],
      "metadata": {
        "id": "jlxiShsn_bfD"
      },
      "execution_count": null,
      "outputs": []
    },
    {
      "cell_type": "markdown",
      "source": [
        "## Wyrównywanie histogramu\n",
        "\n",
        "<div style=\"text-align: justify\">\n",
        "Bardziej zaawansowaną metodą jest tzw. wyrównywanie histogramu (ang. *histogram equalization – HE*).\n",
        "Idea jest następująca: z punktu widzenia lepszego wykorzystania dostępnych poziomów jasności pożądane jest rozciągnięcie \"szczytów\" histogramu, a~skompresowanie \"dolin\" tak, aby taka sama liczba pikseli reprezentowana była przez każdy z dostępnych poziomów jasności (a przynjamniej przybliżona).\n",
        "Warto zwrócić uwagę, że takie przekształcenie powoduje częściową utratę informacji o szczegółach w obszarach \"dolin\".\n",
        "Inaczej mówiąc, dążymy do sytuacji, aby histogram był względnie jednostajny.\n",
        "Operacją, która pozwala wykonać wyrównywanie histogramu, jest przekształcenie LUT z funkcją przejścia w postaci histogramu skumulowanego danego obrazu.</div><br>\n",
        "\n",
        "<div style=\"text-align: justify\">\n",
        "Histogram skumulowany to funkcja obliczona na podstawie histogramu.\n",
        "Jej pierwszy element to liczba pikseli o odcieniu $0$.\n",
        "Kolejne wartości to liczba pikseli o odcieniach od $0$ do $n$.</div>\n",
        "\n",
        "\\begin{equation}\n",
        "C(n) = \\sum_{i=0}^{n} h(i)\n",
        "\\end{equation}\n",
        "\n",
        "<div style=\"text-align: justify\">\n",
        "Jeżeli histogram jest w postaci znormalizowanej (gęstość rozkładu prawdopodobieństwa) to histogram skumulowany stanowi dystrybuantę rozkładu prawdopodobieństwa.</div><br>\n",
        "\n",
        "1. Wyznacz histogram skumulowany dla obrazu *hist1.bmp*.\n",
        "W tym celu wykorzystaj metodę `cumsum` dla histogramu wczytanego obrazu.\n",
        "Nie przyjmuje ona żadnych argumentów, a zwraca skumulowane wartości tablicy, dla której została użyta.\n",
        "Histogram należy wyliczyć dla **obrazka wejściowego**, a nie dla wyniku rozciągania.\n",
        "2. Histogram skumulowany wyświetl razem z histogramem zwykłym na jednym wykresie (nie obok siebie).\n",
        "Na potrzeby wyświetlenia przeskaluj histogram skumulowany tak, by miał taką samą wartość maksymalną jak zwykły histogram.\n",
        "W tym celu wykorzystaj metodę `max`.\n",
        "3. Wyświetlenie kilku linii na jednym wykresie może być zrealizowane w następujący sposób:\n",
        "        figHistCum, axsHistCum = plt.subplots()\n",
        "\n",
        "        axsHistCum.plot(HHist)\n",
        "        axsHistCum.plot(CHistNorm)\n",
        "        axsHistCum.grid()\n",
        "4. Teraz zaimplementuj klasyczny algorytm wyrównywania histogramu.\n",
        "Wykorzystać należy obliczony histogram skumulowany.\n",
        "Należy go przeskalować w taki sposób aby na jego podstawie zrealizować przekształcenie LUT, czyli do zakresu 0 - 255.\n",
        "\n",
        ">Uwaga. Opisany algorytm wyrównywania histogramu jest wersją uproszczoną.\n",
        ">W wersji pełnej należy podczas skalowania tablicy przekodowań LUT pominąć elementy równe *0*.\n",
        ">\n",
        ">W tym celu należy wykorzystać funkcje `np.ma.masked_equal` i `np.ma.filled`.\n",
        ">Pierwsza służy do ukrywania elementów tablicy, natomiast druga zamienia ukryte elementy na podaną wartość.\n",
        ">W tym przypadku elementem ukrywanym i wpisywaną wartością byłoby *0*.\n",
        "\n",
        "5. Na kolejnym rysunku wyświetl obrazek po przekształceniu, jego histogram oraz histogram skumulowany.\n",
        "Co szczególnego można powiedzieć o jego histogramie i histogramie skumulowanym?\n",
        "6. W bibliotece *OpenCV* dostępna jest funkcja wykonująca wyrównywanie histogramu `cv2.equalizeHist`.\n",
        "Jej argumentem jest obraz, którego histogram zostanie wyrównany. Zwraca natomiast obraz wynikowy.\n",
        "Na kolejnym rysunku wyświetl wynik funkcji, jego histogram oraz histogram skumulowany.\n",
        "7. W wykorzystywanej bibliotece zaimplementowana jest również metoda adaptacyjnego wyrównywania histogramu algorytmem CLAHE (ang. *Contrast Limited Adaptive Histogram Equalization*}.\n",
        "   Kilka słów wyjaśnienia.\n",
        "   Wadą poznanej metody HE jest jej \"globalność\" rozumiana jako nieuwzględnianie lokalnych właściwości obrazu.\n",
        "   Dlatego też powstała metoda adaptacyjnego wyrównywania histogramu (AHE).\n",
        "   Jest ona spotykana w dwóch wariantach:\n",
        "   - dla każdego piksela niezależnie, w pewnym jego otoczeniu, wyznaczany jest histogram i przeprowadzane wyrównywanie.\n",
        "     Jak nietrudno się domyślić rozwiązanie jest dość kosztowne obliczeniowo.\n",
        "   - obraz wejściowy dzielony jest na nienachodzące na siebie prostokątne okna.\n",
        "     W każdym z okien obliczany jest histogram i przeprowadzane jest wyrównywanie.\n",
        "     W celu eliminacji błędów na granicy okien, stosuje się interpolację.\n",
        "\n",
        "   Metoda AHE ma jednak tą wadę, że w obszarach jednorodnych wzmacnia szum.\n",
        "   Dlatego też zaproponowano rozwiązanie CLAHE, które zakłada ograniczenie kontrastu (CL).\n",
        "   W metodzie definiuje się maksymalną wartość danego przedziału histogramu (próg ograniczenia kontrastu).\n",
        "   Piksele, które przekraczają próg są następnie równomiernie rozdzielane pomiędzy poszczególne przedziały.\n",
        "   Bardziej szczegółowy opis obu metod dostępny jest na [Wikipedii](https://en.wikipedia.org/wiki/Adaptive_histogram_equalization).\n",
        "\n",
        "8.W celu użycia algorytmu należy wywołać funkcję `cv2.createCLAHE`.\n",
        "    - Pierwszym parametrem jest próg ograniczenia kontrastu.\n",
        "    - Drugi parametr definiuje na ile prostokątów zostanie podzielony obraz w rzęch i kolumnach.\n",
        "    - Zwracany jest zainicjalizowany *smart pointer* do klasy `cv::CLAHE`.\n",
        "9. Aby wykonać wyrównywanie należy użyć metody `apply`.\n",
        "Jej argumentem jest obraz wejściowy. Zwracany jest obraz o zmodyfikowanym histogramie.\n",
        "10. Przetestuj różne parametry algorytmu CLAHE.\n",
        "11. W kolejnym etapie należy przetestować operacje (rozciąganie, wyrównywanie (HE) i adaptacyjne wyrównywanie CLAHE)  na histogramie dla obrazów rzeczywistych. *hist2.bmp*, *hist3.bmp*, *hist4.jpg*.\n",
        "W jednym oknie wyświetl: obraz oryginalny, rozciąganie, wyrównywanie HE oraz wyrównywanie CLAHE."
      ],
      "metadata": {
        "collapsed": false,
        "pycharm": {
          "name": "#%% md\n"
        },
        "id": "gaziMC3_4T7C"
      }
    },
    {
      "cell_type": "code",
      "execution_count": null,
      "outputs": [],
      "source": [
        "Hcs1 = H1.cumsum()\n",
        "b = H1.max()/Hcs1.max()\n",
        "Hcs1 = Hcs1 * b\n",
        "\n",
        "figHistCum, axsHistCum = plt.subplots()\n",
        "\n",
        "axsHistCum.plot(H1, label = 'histogram zwykły')\n",
        "axsHistCum.plot(Hcs1, label = \"histogram skumulowany\")\n",
        "axsHistCum.grid()\n",
        "axsHistCum.legend()\n"
      ],
      "metadata": {
        "pycharm": {
          "name": "#%% Zadanie 3 - histogram skumulowany\n"
        },
        "id": "cVok__z04T7D"
      }
    },
    {
      "cell_type": "code",
      "execution_count": null,
      "outputs": [],
      "source": [
        "\n",
        "Hcs1_lut = np.ma.masked_equal(Hcs1,0)\n",
        "Hcs1_lut = (Hcs1_lut - Hcs1_lut.min())*255/(Hcs1_lut.max()-Hcs1_lut.min())\n",
        "Hcs1_lut = np.ma.filled(Hcs1_lut,0).astype('uint8')\n",
        "\n",
        "\n",
        "new_I1 = Hcs1_lut[I1]\n",
        "new_H1 = cv2.calcHist([new_I1],[0],None,[256],[0,256])\n",
        "\n",
        "new_Hcs1 = new_H1.cumsum()\n",
        "b = new_H1.max()/new_Hcs1.max()\n",
        "new_Hcs1 = new_Hcs1 * b\n",
        "\n",
        "\n",
        "# plt.imshow(new_I1)\n",
        "# plt.show()\n",
        "# plt.plot(new_H1)\n",
        "# plt.show()"
      ],
      "metadata": {
        "pycharm": {
          "name": "#%% Zadanie 3 - wyrównywanie\n"
        },
        "id": "1baE4xtQ4T7D"
      }
    },
    {
      "cell_type": "code",
      "execution_count": null,
      "outputs": [],
      "source": [
        "fig, (ax1, ax2, ax3) = plt.subplots(1, 3, figsize=(14,4))\n",
        "\n",
        "ax1.imshow(new_I1, vmin=0, vmax=256)\n",
        "ax1.set_title(\"obraz po wyrównaniu\")\n",
        "\n",
        "ax2.plot(new_H1)\n",
        "ax2.set_title(\"hitogram po wyrównaniu\")\n",
        "\n",
        "ax3.plot(new_Hcs1)\n",
        "ax3.set_title(\"histogram skumulowany nowego obrazu\")\n",
        "\n",
        "plt.show()\n"
      ],
      "metadata": {
        "pycharm": {
          "name": "#%% Zadanie 3 - wyrównywanie OpenCV\n"
        },
        "id": "ujYEHgP44T7D"
      }
    },
    {
      "cell_type": "code",
      "execution_count": null,
      "outputs": [],
      "source": [
        "Ig1 = cv2.cvtColor(I1, cv2.COLOR_BGR2GRAY)\n",
        "#żeby uzyć funkcję calcHist konieczne było dodanie powyższej komendy, bo funkcja nie uznawała obrazka za szary\n",
        "\n",
        "Cvi1 = cv2.equalizeHist(Ig1)\n",
        "Cvh1 = cv2.calcHist([Cvi1],[0],None,[256],[0,256])\n",
        "\n",
        "\n",
        "Cvh1_cum = Cvh1.cumsum()\n",
        "Cvh1_cum = Cvh1_cum * Cvh1.max()/Cvh1_cum.max()\n",
        "\n",
        "\n",
        "fig, (ax1, ax2, ax3) = plt.subplots(1, 3, figsize=(14,4))\n",
        "plt.gray()\n",
        "ax1.imshow(Cvi1, vmin=0, vmax=256)\n",
        "ax1.set_title(\"obraz po wyrównaniu\")\n",
        "\n",
        "ax2.plot(Cvh1)\n",
        "ax2.set_title(\"hitogram po wyrównaniu\")\n",
        "\n",
        "ax3.plot(Cvh1_cum)\n",
        "ax3.set_title(\"histogram skumulowany nowego obrazu\")\n",
        "\n",
        "plt.show()"
      ],
      "metadata": {
        "pycharm": {
          "name": "#%% Zadanie 3 - CLAHE\n"
        },
        "id": "_yCFyeTA4T7E"
      }
    },
    {
      "cell_type": "code",
      "source": [
        "clahe = cv2.createCLAHE(clipLimit=2.0, tileGridSize=(8, 8))\n",
        "clahe_im = clahe.apply(Ig1)\n",
        "\n",
        "clahe_hist = cv2.calcHist([clahe_im],[0],None,[256],[0,256])\n",
        "\n",
        "\n",
        "clahe_cum = clahe_hist.cumsum()\n",
        "clahe_cum = clahe_cum * clahe_hist.max()/clahe_cum.max()\n",
        "\n",
        "\n",
        "fig, (ax1, ax2, ax3) = plt.subplots(1, 3, figsize=(14,4))\n",
        "plt.gray()\n",
        "ax1.imshow(clahe_im, vmin=0, vmax=256)\n",
        "ax1.set_title(\"obraz po uzyciu CLAHE\")\n",
        "\n",
        "ax2.plot(clahe_hist)\n",
        "ax2.set_title(\"hitogram nowego obrazu\")\n",
        "\n",
        "ax3.plot(clahe_cum)\n",
        "ax3.set_title(\"histogram skumulowany nowego obrazu\")\n",
        "\n",
        "plt.show()"
      ],
      "metadata": {
        "id": "-wdShzjHySDR"
      },
      "execution_count": null,
      "outputs": []
    },
    {
      "cell_type": "code",
      "source": [
        "clahe = cv2.createCLAHE(clipLimit=20.0, tileGridSize=(1, 1))\n",
        "\n",
        "clahe_im = clahe.apply(Ig1)\n",
        "clahe_hist = cv2.calcHist([clahe_im],[0],None,[256],[0,256])\n",
        "clahe_cum = clahe_hist.cumsum()\n",
        "clahe_cum = clahe_cum * clahe_hist.max()/clahe_cum.max()\n",
        "fig, (ax1, ax2, ax3) = plt.subplots(1, 3, figsize=(14,4))\n",
        "plt.gray()\n",
        "ax1.imshow(clahe_im, vmin=0, vmax=256)\n",
        "ax1.set_title(\"obraz po uzyciu CLAHE\")\n",
        "ax2.plot(clahe_hist)\n",
        "ax2.set_title(\"hitogram nowego obrazu\")\n",
        "ax3.plot(clahe_cum)\n",
        "ax3.set_title(\"histogram skumulowany nowego obrazu\")\n",
        "plt.show()"
      ],
      "metadata": {
        "id": "iM3-6fYe0NI_"
      },
      "execution_count": null,
      "outputs": []
    },
    {
      "cell_type": "code",
      "source": [
        "clahe = cv2.createCLAHE(clipLimit=10.0, tileGridSize=(2, 10))\n",
        "\n",
        "clahe_im = clahe.apply(Ig1)\n",
        "clahe_hist = cv2.calcHist([clahe_im],[0],None,[256],[0,256])\n",
        "clahe_cum = clahe_hist.cumsum()\n",
        "clahe_cum = clahe_cum * clahe_hist.max()/clahe_cum.max()\n",
        "fig, (ax1, ax2, ax3) = plt.subplots(1, 3, figsize=(14,4))\n",
        "plt.gray()\n",
        "ax1.imshow(clahe_im, vmin=0, vmax=256)\n",
        "ax1.set_title(\"obraz po uzyciu CLAHE\")\n",
        "ax2.plot(clahe_hist)\n",
        "ax2.set_title(\"hitogram nowego obrazu\")\n",
        "ax3.plot(clahe_cum)\n",
        "ax3.set_title(\"histogram skumulowany nowego obrazu\")\n",
        "plt.show()"
      ],
      "metadata": {
        "id": "_VxDbmMx0i39"
      },
      "execution_count": null,
      "outputs": []
    },
    {
      "cell_type": "markdown",
      "source": [
        "Ostatni podpunkt!"
      ],
      "metadata": {
        "id": "DaQyBTmH1EDt"
      }
    },
    {
      "cell_type": "code",
      "source": [
        "#rozciąganie\n",
        "norm2 = np.zeros(I2.shape[0], 'uint8')\n",
        "In2 = cv2.normalize(I2, norm1, 0, 255, cv2.NORM_MINMAX)\n",
        "\n",
        "norm3 = np.zeros(I3.shape[0], 'uint8')\n",
        "In3 = cv2.normalize(I3, norm1, 0, 255, cv2.NORM_MINMAX)\n",
        "\n",
        "norm4 = np.zeros(I4.shape[0], 'uint8')\n",
        "In4 = cv2.normalize(I4, norm1, 0, 255, cv2.NORM_MINMAX)\n",
        "\n",
        "#wyrównywanie HE\n",
        "Ig2 = cv2.cvtColor(I2, cv2.COLOR_BGR2GRAY)\n",
        "Cvi12 = cv2.equalizeHist(Ig2)\n",
        "\n",
        "Ig3 = cv2.cvtColor(I3, cv2.COLOR_BGR2GRAY)\n",
        "Cvi13 = cv2.equalizeHist(Ig3)\n",
        "\n",
        "Ig4 = cv2.cvtColor(I4, cv2.COLOR_BGR2GRAY)\n",
        "Cvi14 = cv2.equalizeHist(Ig4)\n",
        "\n",
        "#wyrównywanie CLAHE\n",
        "clahe = cv2.createCLAHE(clipLimit=20.0, tileGridSize=(1, 1))\n",
        "clahe_im2 = clahe.apply(Ig2)\n",
        "\n",
        "clahe_im3 = clahe.apply(Ig3)\n",
        "\n",
        "clahe_im4 = clahe.apply(Ig4)\n",
        "\n",
        "\n",
        "\n",
        "figLena, axsLena = plt.subplots(3, 4)\n",
        "\n",
        "figLena.set_size_inches(20, 10)\n",
        "axsLena[0, 0].imshow(I2, vmin=0, vmax=256)\n",
        "axsLena[0, 0].axis('off')\n",
        "axsLena[1, 0].imshow(I3, vmin=0, vmax=256)\n",
        "axsLena[2, 0].imshow(I4, vmin=0, vmax=256)\n",
        "axsLena[0, 0].set_title(\"obraz orginalny\")\n",
        "axsLena[1, 0].axis('off')\n",
        "axsLena[2, 0].axis('off')\n",
        "\n",
        "axsLena[0, 1].imshow(In2, vmin=0, vmax=256)\n",
        "axsLena[0, 1].axis('off')\n",
        "axsLena[1, 1].imshow(In3, vmin=0, vmax=256)\n",
        "axsLena[2, 1].imshow(In4, vmin=0, vmax=256)\n",
        "axsLena[0, 1].set_title(\"obraz po rozciąganiu\")\n",
        "axsLena[1, 1].axis('off')\n",
        "axsLena[2, 1].axis('off')\n",
        "\n",
        "axsLena[0, 2].imshow(Cvi12, vmin=0, vmax=256)\n",
        "axsLena[0, 2].axis('off')\n",
        "axsLena[1, 2].imshow(Cvi13, vmin=0, vmax=256)\n",
        "axsLena[2, 2].imshow(Cvi14, vmin=0, vmax=256)\n",
        "axsLena[0, 2].set_title(\"obraz po wyrównaniu HE\")\n",
        "axsLena[1, 2].axis('off')\n",
        "axsLena[2, 2].axis('off')\n",
        "\n",
        "axsLena[0, 3].imshow(clahe_im2, vmin=0, vmax=256)\n",
        "axsLena[0, 3].axis('off')\n",
        "axsLena[1, 3].imshow(clahe_im3, vmin=0, vmax=256)\n",
        "axsLena[1, 3].axis('off')\n",
        "axsLena[2, 3].imshow(clahe_im4, vmin=0, vmax=256)\n",
        "axsLena[2, 3].axis('off')\n",
        "axsLena[0, 3].set_title(\"obraz po wyrównaniu CLAHE\")\n",
        "\n",
        "plt.show()"
      ],
      "metadata": {
        "id": "XehjbEof1G60"
      },
      "execution_count": null,
      "outputs": []
    },
    {
      "cell_type": "markdown",
      "source": [
        "## Histogram dla obrazów kolorowych i jego wyrównywanie\n",
        "\n",
        "1. Wczytaj obraz *lenaRGB.bmp*.\n",
        "2. Wykonaj konwersję przestrzeni barw z BGR do RGB.\n",
        "3. Wyświetl wczytany obraz oraz histogram dla każdej składowej przestrzeni barw.\n",
        "W tym celu można użyć drugiego argumentu wykorzystywanej funkcji (numer kanału).\n",
        "4. Wykonaj wyrównywanie dla każdej składowej obrazu.\n",
        "Połącz otrzymane składowe w nowy obraz i wyświetl go.\n",
        "Jaka jest zasadnicza wada takiego podejścia?\n",
        "5. Przekształć obraz wejściowy do przestrzeni HSV (flaga `cv2.COLOR_BGR2HSV`).\n",
        "Wyświetl histogramy poszczególnych składowych.\n",
        "Manipulacji dokonujemy na składowej odpowiadającej za jasność, czyli V.\n",
        "Wykonaj wyrównywanie histogramu dla tej składowej.\n",
        "Dokonaj podmiany składowej V i wyświetl rezultat operacji.\n",
        "Uprzednio przeprowadź konwersję HSV->RGB (flaga `cv2.COLOR_HSV2RGB`).\n",
        "6. Wykonaj te same operacje dla obrazu *jezioro.jpg*."
      ],
      "metadata": {
        "collapsed": false,
        "pycharm": {
          "name": "#%% md\n"
        },
        "id": "g-yAbk7g4T7E"
      }
    },
    {
      "cell_type": "code",
      "execution_count": null,
      "outputs": [],
      "source": [
        "if not os.path.exists(\"lenaRGB.bmp\") :\n",
        "    !wget https://raw.githubusercontent.com/vision-agh/poc_sw/master/03_Histogram/lenaRGB.bmp --no-check-certificate\n",
        "\n",
        "if not os.path.exists(\"jezioro.jpg\") :\n",
        "    !wget https://raw.githubusercontent.com/vision-agh/poc_sw/master/03_Histogram/jezioro.jpg --no-check-certificate\n",
        "\n",
        "lena = cv2.imread('lenaRGB.bmp')\n",
        "lenargb = cv2.cvtColor(lena, cv2.COLOR_BGR2RGB)\n",
        "\n",
        "plt.imshow(lena)\n",
        "plt.show()\n",
        "plt.imshow(lenargb)\n",
        "plt.show()\n",
        "\n",
        "R, B, G =  cv2.split(lenargb)\n",
        "\n",
        "RH = cv2.calcHist([lenargb],[0],None,[256],[0,256])\n",
        "BH = cv2.calcHist([lenargb],[1],None,[256],[0,256])\n",
        "GH = cv2.calcHist([lenargb],[2],None,[256],[0,256])\n",
        "\n",
        "fig, axs = plt.subplots(1, 2)\n",
        "fig.set_size_inches(10, 5)\n",
        "axs[0].imshow(R, vmin=0, vmax=256)\n",
        "axs[0].axis('off')\n",
        "axs[1].plot(RH)\n",
        "axs[1].grid()\n",
        "axs[0].set_title(\"R\")\n",
        "\n",
        "fig, axs = plt.subplots(1, 2)\n",
        "fig.set_size_inches(10, 5)\n",
        "axs[0].imshow(B, vmin=0, vmax=256)\n",
        "axs[0].axis('off')\n",
        "axs[1].plot(BH)\n",
        "axs[1].grid()\n",
        "axs[0].set_title(\"B\")\n",
        "\n",
        "fig, axs = plt.subplots(1, 2)\n",
        "fig.set_size_inches(10, 5)\n",
        "axs[0].imshow(G, vmin=0, vmax=256)\n",
        "axs[0].axis('off')\n",
        "axs[1].plot(GH)\n",
        "axs[1].grid()\n",
        "axs[0].set_title(\"G\")\n",
        "\n"
      ],
      "metadata": {
        "pycharm": {
          "name": "#%% Zadanie 4 - histogram\n"
        },
        "id": "-dRWYCOy4T7E"
      }
    },
    {
      "cell_type": "code",
      "source": [
        "\n",
        "RGN = cv2.equalizeHist(lenargb[:,:,0])\n",
        "GGN = cv2.equalizeHist(lenargb[:,:,1])\n",
        "BGN = cv2.equalizeHist(lenargb[:,:,2])\n",
        "\n",
        "all = np.zeros(np.shape(lenargb))\n",
        "all[:,:,0]=RGN\n",
        "all[:,:,1]=GGN\n",
        "all[:,:,2]=BGN\n",
        "\n",
        "all=cv2.normalize(all,None,0,255,cv2.NORM_MINMAX)\n",
        "all=all.astype('uint8')\n",
        "\n",
        "plt.imshow(all)\n",
        "plt.title(\"Nowy obraz\")\n",
        "plt.show()"
      ],
      "metadata": {
        "id": "dkVdNObCMiOF"
      },
      "execution_count": null,
      "outputs": []
    },
    {
      "cell_type": "code",
      "source": [
        "#wyrównujac histogramy zmieniamy składowe kolorów, co zmienia nam finalny kolor (inne wartości R, G oraz B), nie sam kontrast/jasość oraz należy wykonać aż trzy wyrównania"
      ],
      "metadata": {
        "id": "k_nXOMtZRrnM"
      },
      "execution_count": null,
      "outputs": []
    },
    {
      "cell_type": "code",
      "execution_count": null,
      "outputs": [],
      "source": [
        "lenaHSV = cv2.cvtColor(lena, cv2.COLOR_BGR2HSV)\n",
        "\n",
        "\n",
        "plt.imshow(lena)\n",
        "plt.show()\n",
        "plt.imshow(lenaHSV)\n",
        "plt.show()\n",
        "\n",
        "H, S, V =  cv2.split(lenaHSV)\n",
        "\n",
        "HH = cv2.calcHist([lenaHSV],[0],None,[256],[0,256])\n",
        "SH = cv2.calcHist([lenaHSV],[1],None,[256],[0,256])\n",
        "VH = cv2.calcHist([lenaHSV],[2],None,[256],[0,256])\n",
        "\n",
        "fig, axs = plt.subplots(1, 2)\n",
        "fig.set_size_inches(10, 5)\n",
        "axs[0].imshow(H, vmin=0, vmax=256)\n",
        "axs[0].axis('off')\n",
        "axs[1].plot(HH)\n",
        "axs[1].grid()\n",
        "axs[0].set_title(\"H\")\n",
        "\n",
        "fig, axs = plt.subplots(1, 2)\n",
        "fig.set_size_inches(10, 5)\n",
        "axs[0].imshow(S, vmin=0, vmax=256)\n",
        "axs[0].axis('off')\n",
        "axs[1].plot(SH)\n",
        "axs[1].grid()\n",
        "axs[0].set_title(\"S\")\n",
        "\n",
        "fig, axs = plt.subplots(1, 2)\n",
        "fig.set_size_inches(10, 5)\n",
        "axs[0].imshow(V, vmin=0, vmax=256)\n",
        "axs[0].axis('off')\n",
        "axs[1].plot(VH)\n",
        "axs[1].grid()\n",
        "axs[0].set_title(\"V\")"
      ],
      "metadata": {
        "pycharm": {
          "name": "#%% Zadanie 4 - wyrównanie\n"
        },
        "id": "BTuj1zI84T7F"
      }
    },
    {
      "cell_type": "code",
      "execution_count": null,
      "outputs": [],
      "source": [
        "VH = cv2.equalizeHist(lenaHSV[:,:,2])\n",
        "\n",
        "all = lenaHSV.copy()\n",
        "all[:,:,2]=VH\n",
        "\n",
        "all = cv2.cvtColor(all, cv2.COLOR_HSV2RGB)\n",
        "all=cv2.normalize(all,None,0,255,cv2.NORM_MINMAX)\n",
        "all=all.astype('uint8')\n",
        "\n",
        "plt.imshow(all)\n",
        "plt.title(\"Nowy obraz\")\n",
        "plt.show()\n",
        "\n"
      ],
      "metadata": {
        "pycharm": {
          "name": "#%% Zadanie 4 - HSV histogram\n"
        },
        "id": "irRzxDWr4T7F"
      }
    },
    {
      "cell_type": "code",
      "execution_count": null,
      "outputs": [],
      "source": [
        "jezioro = cv2.imread('jezioro.jpg')\n",
        "jeziororgb = cv2.cvtColor(jezioro, cv2.COLOR_BGR2RGB)\n",
        "\n",
        "plt.imshow(jezioro)\n",
        "plt.show()\n",
        "plt.imshow(jeziororgb)\n",
        "plt.show()\n",
        "\n",
        "R, B, G =  cv2.split(jeziororgb)\n",
        "\n",
        "RH = cv2.calcHist([R],[0],None,[256],[0,256])\n",
        "BH = cv2.calcHist([B],[0],None,[256],[0,256])\n",
        "GH = cv2.calcHist([G],[0],None,[256],[0,256])\n",
        "\n",
        "fig, axs = plt.subplots(1, 2)\n",
        "fig.set_size_inches(10, 5)\n",
        "axs[0].imshow(R, vmin=0, vmax=256)\n",
        "axs[0].axis('off')\n",
        "axs[1].plot(RH)\n",
        "axs[1].grid()\n",
        "axs[0].set_title(\"R\")\n",
        "\n",
        "fig, axs = plt.subplots(1, 2)\n",
        "fig.set_size_inches(10, 5)\n",
        "axs[0].imshow(B, vmin=0, vmax=256)\n",
        "axs[0].axis('off')\n",
        "axs[1].plot(BH)\n",
        "axs[1].grid()\n",
        "axs[0].set_title(\"B\")\n",
        "\n",
        "fig, axs = plt.subplots(1, 2)\n",
        "fig.set_size_inches(10, 5)\n",
        "axs[0].imshow(G, vmin=0, vmax=256)\n",
        "axs[0].axis('off')\n",
        "axs[1].plot(GH)\n",
        "axs[1].grid()\n",
        "axs[0].set_title(\"G\")\n",
        "\n",
        "plt.show()\n",
        "\n",
        "RGN = cv2.equalizeHist(R)\n",
        "GGN = cv2.equalizeHist(G)\n",
        "BGN = cv2.equalizeHist(B)"
      ],
      "metadata": {
        "pycharm": {
          "name": "#%% Zadanie 4 - HSV wyrównanie\n"
        },
        "id": "cCkMu61E4T7F"
      }
    },
    {
      "cell_type": "code",
      "source": [
        "RGN = cv2.equalizeHist(jeziororgb[:,:,0])\n",
        "GGN = cv2.equalizeHist(jeziororgb[:,:,1])\n",
        "BGN = cv2.equalizeHist(jeziororgb[:,:,2])\n",
        "\n",
        "all = np.zeros(np.shape(jeziororgb))\n",
        "all[:,:,0]=RGN\n",
        "all[:,:,1]=GGN\n",
        "all[:,:,2]=BGN\n",
        "\n",
        "all=cv2.normalize(all,None,0,255,cv2.NORM_MINMAX)\n",
        "all=all.astype('uint8')\n",
        "\n",
        "plt.imshow(all)\n",
        "plt.title(\"Nowy obraz\")\n",
        "plt.show()"
      ],
      "metadata": {
        "id": "XoZCfpZ7TALV"
      },
      "execution_count": null,
      "outputs": []
    },
    {
      "cell_type": "code",
      "source": [
        "jezioroHSV = cv2.cvtColor(jezioro, cv2.COLOR_BGR2HSV)\n",
        "\n",
        "\n",
        "plt.imshow(jezioro)\n",
        "plt.show()\n",
        "plt.imshow(jezioroHSV)\n",
        "plt.show()\n",
        "\n",
        "H, S, V =  cv2.split(jezioroHSV)\n",
        "\n",
        "HH = cv2.calcHist([jezioroHSV],[0],None,[256],[0,256])\n",
        "SH = cv2.calcHist([jezioroHSV],[1],None,[256],[0,256])\n",
        "VH = cv2.calcHist([jezioroHSV],[2],None,[256],[0,256])\n",
        "\n",
        "fig, axs = plt.subplots(1, 2)\n",
        "fig.set_size_inches(10, 5)\n",
        "axs[0].imshow(H, vmin=0, vmax=256)\n",
        "axs[0].axis('off')\n",
        "axs[1].plot(HH)\n",
        "axs[1].grid()\n",
        "axs[0].set_title(\"H\")\n",
        "\n",
        "fig, axs = plt.subplots(1, 2)\n",
        "fig.set_size_inches(10, 5)\n",
        "axs[0].imshow(S, vmin=0, vmax=256)\n",
        "axs[0].axis('off')\n",
        "axs[1].plot(SH)\n",
        "axs[1].grid()\n",
        "axs[0].set_title(\"S\")\n",
        "\n",
        "fig, axs = plt.subplots(1, 2)\n",
        "fig.set_size_inches(10, 5)\n",
        "axs[0].imshow(V, vmin=0, vmax=256)\n",
        "axs[0].axis('off')\n",
        "axs[1].plot(VH)\n",
        "axs[1].grid()\n",
        "axs[0].set_title(\"V\")"
      ],
      "metadata": {
        "id": "zSHfKukZgCVT"
      },
      "execution_count": null,
      "outputs": []
    },
    {
      "cell_type": "code",
      "source": [
        "VH = cv2.equalizeHist(jezioroHSV[:,:,2])\n",
        "\n",
        "all2 = jezioroHSV.copy()\n",
        "all2[:,:,2]=VH\n",
        "\n",
        "all2 = cv2.cvtColor(all2, cv2.COLOR_HSV2RGB)\n",
        "all2=cv2.normalize(all2,None,0,255,cv2.NORM_MINMAX)\n",
        "all2=all2.astype('uint8')\n",
        "\n",
        "plt.imshow(all2)\n",
        "plt.title(\"Nowy obraz\")\n",
        "plt.show()\n",
        "\n"
      ],
      "metadata": {
        "id": "KHHmdMpngb6x"
      },
      "execution_count": null,
      "outputs": []
    }
  ],
  "metadata": {
    "kernelspec": {
      "display_name": "Python 3",
      "language": "python",
      "name": "python3"
    },
    "language_info": {
      "codemirror_mode": {
        "name": "ipython",
        "version": 3
      },
      "file_extension": ".py",
      "mimetype": "text/x-python",
      "name": "python",
      "nbconvert_exporter": "python",
      "pygments_lexer": "ipython3",
      "version": "3.8.3"
    },
    "colab": {
      "name": "03_histogram.ipynb",
      "provenance": [],
      "collapsed_sections": []
    }
  },
  "nbformat": 4,
  "nbformat_minor": 0
}