{
  "cells": [
    {
      "cell_type": "markdown",
      "metadata": {
        "id": "-inhNVJi6apI"
      },
      "source": [
        "# Przekształcenia morfologiczne\n",
        "\n",
        "## Cel:\n",
        "- zapoznanie z podstawowymi przekształceniami morfologicznymi – erozją, dylatacją, otwarciem, zamknieciem, transformacją trafi, nie trafi,\n",
        "- zapoznanie ze złożonymi operacjami morfologicznymi wykorzystującymi rekonstrukcję morfologiczną,\n",
        "- zapoznanie z operacjami morfologicznym dla obrazów w odcieniach szarości – erozją, dylatacją, otwarciem, zamknieciem, filtrami top-hat i bottom-hat,\n",
        "- zapoznanie z wykorzystaniem złożonych operacji morfologicznych przy rozwiązywaniu konkretnego problemu,\n",
        "- zadanie domowe: wykorzystanie morfologii do implementacji ,,gry w życie''."
      ]
    },
    {
      "cell_type": "markdown",
      "metadata": {
        "id": "DjyAxuks6apL"
      },
      "source": [
        "## Przypomnienie teorii\n",
        "\n",
        "### Element strukturalny\n",
        "\n",
        "Element strukturalny obrazu jest to pewien wycinek obrazu (przy dyskretnej reprezentacji obrazu – pewien podzbiór jego elementów). Najcześciej stosowanym elementem strukturalnym jest kwadratowa maska o rozmiarze 3×3 lub 5×5. Niekiedy pożądane są maski o innym kształcie, np. zbliżonym do elipsy.\n",
        "\n",
        "### Erozja\n",
        "\n",
        "Erozja (ang. _erosion_) jest podstawowym przekształceniem morfologicznym. Zakładamy, że obraz wyjściowy zawiera pewien obszar (figurę) X, wyróżniający się pewną charakterystyczną cechą (np. odróżniającą się od tła jasnością). Figura X po wykonaniu operacji erozji to zbiór punktów centralnych wszystkich elementów strukturalnych, które w całości mieszczą się we wnetrzu obszaru X. Miarą stopnia erozji jest wielkość elementu strukturalnego.\n",
        "\n",
        "Erozje można traktować jako filtr minimalny, tj. z danego otoczenia piksela (określanego przez maskę) do obrazu wynikowego wybierana jest wartość minimalna.\n",
        "\n",
        "### Dylatacja\n",
        "\n",
        "Dylatacja (ang. _dilation_): Zakładamy, że obraz wejściowy zawiera obszar X wyróżniający się pewną charakterystyczną cechą (np. jasnością). Figura przekształcona przez dylatacje to zbiór punktów centralnych wszystkich elementów strukturalnych, których którykolwiek punkt mieści sie we wnetrzu obszaru X. Miarą  dylatacji jest wielkość elementu strukturalnego.\n",
        "\n",
        "Dylatacje można traktować jako filtr maksymalny, tj. z danego otoczenia piksela (określanego\n",
        "przez maske) do obrazu wynikowego wybierana jest wartość maksymalna.\n",
        "\n",
        "### Otwarcie i zamknięcie\n",
        "\n",
        "Otwarcie (ang. _opening_) polega na wykonaniu najpierw operacji erozji, a nastepnie dylatacji.\n",
        "\n",
        "> Otwarcie = erozja + dylatacja\n",
        "\n",
        "Zamkniecie (ang. _closing_) polega na wykonaniu najpierw operacji dylatacji, a nastepnie erozji.\n",
        "\n",
        "> Zamkniecie = dylatacja + erozja\n",
        "\n",
        "### Obrazy w odcieniu szarości\n",
        "\n",
        "Obrazy w odcieniu szarości – detekcja dolin i szczytów (top-hat, bottom-hat):\n",
        "\n",
        "Aby wyodrebnić z obrazu lokalne ekstrema można wykorzystać zdefiniowane wcześniej przekształcenia: otwarcie i zamkniecie. W celu wyszukania lokalnych maksimów (szczytów) należy od wyniku otwarcia danego obrazu odjąć obraz wyjściowy. Analogicznie, aby wyodrebnić lokalne minima obrazu, należy dokonać podobnej operacji, z tym że pierwszą operacją bedzie zamkniecie. Uwaga! Należy zwrócić uwagę, że poniższe metody służą do detekcji (pokreślenia) tylko lokalnych ekstremów!"
      ]
    },
    {
      "cell_type": "markdown",
      "metadata": {
        "id": "sIb8Ux5n6apN"
      },
      "source": [
        "## Podstawowe operacje morfologiczne: erozja, dylatacja, otwarcie, zamknięcie, trafi nie trafi\n",
        "\n",
        "1. Wczytaj obraz ertka.bmp\n",
        "2. Wykonaj operację erozji `cv2.erode`. Parametrami funkcji są obraz oraz element strukturalny. Element można stworzyć samodzielnie jako tablicę składającą się z 0 i 1 `np.ones((3,3))` lub posłużyć się funkcją `cv2.getStructuringElement`, do której należy podać kształt `cv2.MORPH_RECT` oraz wielkość elementu `(3,3)`. Na początku użyj kwadratu o rozmiarze 3 pikseli.\n",
        "3. Wyświetl obraz oryginalny oraz po wykonaniu erozji – najlepiej na wspólnym wykresie. Upewnij się, że rozumiesz, jak działa erozja.\n",
        "4. Zmień element strukturalny (inny kształt – koło, diament lub inny rozmiar). Ponownie wykonaj erozję, sprawdź rezultat działania operacji.\n",
        "5. Oprócz zmiany elementu strukturalnego na rezultat erozji można wpłynąć zwiększając liczbę iteracji (np. wykonać erozję trzykrotnie). Ustal element strukturalny na kwadrat o boku 3 piksele. Wykonaj erozję obrazu _ertka_ dwukrotnie, a następnie trzykrotnie. Zaobserwuj rezultaty. Wskazówka: warto zajrzeć do dokumentacji funkcji `erode`.\n",
        "6. Wczytaj obraz buzka.bmp. Dobierz element strukturalny (zdefiniuj go ręcznie jako macierz 0 i 1) w taki sposób, aby usunąć włosy o określonej orientacji (ukośnie lewo lub prawo).\n",
        "7. Uwaga: pokazane metody wpływania na rezultaty erozji wykorzystuje się identycznie dla pozostałych operacji morfologicznych – dylatacji, otwarcia i zamknięcia.\n",
        "8. Operacją odwrotną do erozji jest dylatacja `cv2.dilate`. Ustal element strukturalny na kwadrat o boku 3 piksele. Wykonaj dylatację obrazu _ertka_. Zapoznaj się z rezultatem działania.\n",
        "9. Na wspólnym wykresie wyświetl obraz oryginalny oraz obrazy po operacjach morfologicznych: erozja, dylatacja, otwarcie i zamkniecie. Otwarcie i zamknięcie można uzyskać za pomocą `cv2.morphologyEx(img, operacja, element_strukturalny)`, gdzie typem operacji jest `cv2.MORPH_OPEN` lub `cv2.MORPH_CLOSE`.\n",
        "10. Zmień obraz _ertka_ na _wyspa_, a następnie na _kolka_. Wykonaj na każdym cztery przedstawione operacje morfologiczne. Zaobserwuj rezultaty.\n",
        "11. Minizadanko: wykorzystując poznane operacje morfologiczne spowoduj, że na obrazie _ertka_ pozostanie tylko napis RT (bez wypustek i dziur).\n",
        "12. Niekiedy potrzebne jest wykrycie konkretnych konfiguracji pikseli na obrazie – przydaje się do tego transformacja trafi, nie trafi (ang. _hit-or-miss_). Pozwala ona wykryć na obrazie obecność elementów, które dokładnie odpowiadają masce.\n",
        "13. Wczytaj obraz hom.bmp. Wyświetl go. Załóżmy, że chcemy wykryć na obrazie krzyżyki 3x3. Zdefiniuj następujący element strukturalny:\n",
        "```\n",
        "[0,1,0]\n",
        "[1,1,1]\n",
        "[0,1,0]\n",
        "```\n",
        "Wykonaj transformację trafi, nie trafi – `cv2.morphologyEx(hom, cv2.MORPH_HITMISS, se1)`. Rezultat operacji wyświetl. Czy udało się zrealizować zadanie? Jeżeli pojawiają się u Państwa błędy związane z typem danych, należy obraz wejściowy przekonwertować na skalę szarości: `cv2.cvtColor(hom, cv2.COLOR_BGR2GRAY)`.\n"
      ]
    },
    {
      "cell_type": "code",
      "execution_count": null,
      "metadata": {
        "id": "Yv9oy1Jl6apO"
      },
      "outputs": [],
      "source": [
        "import matplotlib.pyplot as plt\n",
        "import cv2\n",
        "import numpy as np\n",
        "import os\n",
        "\n",
        "if not os.path.exists(\"buzka.bmp\") :\n",
        "    !wget https://raw.githubusercontent.com/vision-agh/poc_sw/master/10_Morphology/buzka.bmp --no-check-certificate\n",
        "if not os.path.exists(\"calculator.bmp\") :\n",
        "    !wget https://raw.githubusercontent.com/vision-agh/poc_sw/master/10_Morphology/calculator.bmp --no-check-certificate\n",
        "if not os.path.exists(\"ertka.bmp\") :\n",
        "    !wget https://raw.githubusercontent.com/vision-agh/poc_sw/master/10_Morphology/ertka.bmp --no-check-certificate\n",
        "if not os.path.exists(\"ferrari.bmp\") :\n",
        "    !wget https://raw.githubusercontent.com/vision-agh/poc_sw/master/10_Morphology/ferrari.bmp --no-check-certificate\n",
        "if not os.path.exists(\"fingerprint.bmp\") :\n",
        "    !wget https://raw.githubusercontent.com/vision-agh/poc_sw/master/10_Morphology/fingerprint.bmp --no-check-certificate\n",
        "if not os.path.exists(\"hom.bmp\") :\n",
        "    !wget https://raw.githubusercontent.com/vision-agh/poc_sw/master/10_Morphology/hom.bmp --no-check-certificate\n",
        "if not os.path.exists(\"kolka.bmp\") :\n",
        "    !wget https://raw.githubusercontent.com/vision-agh/poc_sw/master/10_Morphology/kolka.bmp --no-check-certificate\n",
        "if not os.path.exists(\"kosc.bmp\") :\n",
        "    !wget https://raw.githubusercontent.com/vision-agh/poc_sw/master/10_Morphology/kosc.bmp --no-check-certificate\n",
        "if not os.path.exists(\"szkielet.bmp\") :\n",
        "    !wget https://raw.githubusercontent.com/vision-agh/poc_sw/master/10_Morphology/szkielet.bmp --no-check-certificate\n",
        "if not os.path.exists(\"text.bmp\") :\n",
        "    !wget https://raw.githubusercontent.com/vision-agh/poc_sw/master/10_Morphology/text.bmp --no-check-certificate\n",
        "if not os.path.exists(\"wyspa.bmp\") :\n",
        "    !wget https://raw.githubusercontent.com/vision-agh/poc_sw/master/10_Morphology/wyspa.bmp --no-check-certificate\n",
        "if not os.path.exists(\"rice.png\") :\n",
        "    !wget https://raw.githubusercontent.com/vision-agh/poc_sw/master/10_Morphology/rice.png --no-check-certificate\n",
        "\n",
        "buzka = cv2.imread('buzka.bmp', cv2.IMREAD_GRAYSCALE)\n",
        "ertka = cv2.imread('ertka.bmp', cv2.IMREAD_GRAYSCALE)\n",
        "calc = cv2.imread('calculator.bmp', cv2.IMREAD_GRAYSCALE)\n",
        "ferrari = cv2.imread('ferrari.bmp', cv2.IMREAD_GRAYSCALE)\n",
        "fingerprint = cv2.imread('fingerprint.bmp', cv2.IMREAD_GRAYSCALE)\n",
        "hom = cv2.imread('hom.bmp', cv2.IMREAD_GRAYSCALE)\n",
        "kolka = cv2.imread('kolka.bmp', cv2.IMREAD_GRAYSCALE)\n",
        "kosc = cv2.imread('kosc.bmp', cv2.IMREAD_GRAYSCALE)\n",
        "text = cv2.imread('text.bmp', cv2.IMREAD_GRAYSCALE)\n",
        "wyspa = cv2.imread('wyspa.bmp', cv2.IMREAD_GRAYSCALE)\n",
        "rice = cv2.imread('rice.png', cv2.IMREAD_GRAYSCALE)\n",
        "\n"
      ]
    },
    {
      "cell_type": "code",
      "source": [
        "struct_el = cv2.getStructuringElement(cv2.MORPH_RECT, (3,3))\n",
        "eroded_ertka = cv2.erode(ertka, struct_el)\n",
        "\n",
        "fig, axs = plt.subplots(1, 2)\n",
        "\n",
        "fig.set_size_inches(12, 12)\n",
        "axs[0].imshow(ertka, 'gray')\n",
        "axs[0].axis('off')\n",
        "axs[0].set_title(\"obraz orginalny\")\n",
        "\n",
        "axs[1].imshow(eroded_ertka, 'gray')\n",
        "axs[1].axis('off')\n",
        "axs[1].set_title(\"ertka po erozji\")\n",
        "\n",
        "fig.show()"
      ],
      "metadata": {
        "id": "YRTap2sp9BJV"
      },
      "execution_count": null,
      "outputs": []
    },
    {
      "cell_type": "code",
      "source": [
        "struct_el = cv2.getStructuringElement(cv2.MORPH_CROSS, (3,3))\n",
        "eroded_ertka = cv2.erode(ertka, struct_el)\n",
        "\n",
        "fig, axs = plt.subplots(1, 2)\n",
        "\n",
        "fig.set_size_inches(12, 12)\n",
        "axs[0].imshow(ertka, 'gray')\n",
        "axs[0].axis('off')\n",
        "axs[0].set_title(\"obraz orginalny\")\n",
        "\n",
        "axs[1].imshow(eroded_ertka, 'gray')\n",
        "axs[1].axis('off')\n",
        "axs[1].set_title(\"ertka po erozji\")\n",
        "\n",
        "fig.show()"
      ],
      "metadata": {
        "id": "8NkmEaVg-uqk"
      },
      "execution_count": null,
      "outputs": []
    },
    {
      "cell_type": "code",
      "source": [
        "struct_el = cv2.getStructuringElement(cv2.MORPH_RECT, (3,3))\n",
        "twice_eroded_ertka = cv2.erode(ertka, struct_el, iterations = 2)\n",
        "triple_eroded_ertka = cv2.erode(eroded_ertka, struct_el, iterations = 3)\n",
        "\n",
        "fig, axs = plt.subplots(1, 3)\n",
        "\n",
        "fig.set_size_inches(16, 16)\n",
        "axs[0].imshow(ertka, 'gray')\n",
        "axs[0].axis('off')\n",
        "axs[0].set_title(\"obraz orginalny\")\n",
        "\n",
        "axs[1].imshow(twice_eroded_ertka, 'gray')\n",
        "axs[1].axis('off')\n",
        "axs[1].set_title(\"ertka po dwukrotnej erozji\")\n",
        "\n",
        "axs[2].imshow(triple_eroded_ertka, 'gray')\n",
        "axs[2].axis('off')\n",
        "axs[2].set_title(\"ertka po trzykrotnej erozji\")\n",
        "\n",
        "fig.show()"
      ],
      "metadata": {
        "id": "_aACI_C8EnKJ"
      },
      "execution_count": null,
      "outputs": []
    },
    {
      "cell_type": "code",
      "source": [
        "plt.imshow(buzka, 'gray')\n",
        "plt.axis('off')\n",
        "plt.show()\n",
        "\n",
        "\n",
        "struct_el = np.array([[1,0,0],[0,1,0],[0,0,1]],np.uint8)\n",
        "eroded_buz1 = cv2.erode(buzka,struct_el)\n",
        "\n",
        "struct_el = np.array([[0,0,1],[0,1,0],[1,0,0]],np.uint8)\n",
        "eroded_buz2 = cv2.erode(buzka,struct_el)\n",
        "\n",
        "plt.imshow(eroded_buz1, 'gray')\n",
        "plt.axis('off')\n",
        "plt.show()\n",
        "\n",
        "plt.imshow(eroded_buz2, 'gray')\n",
        "plt.axis('off')\n",
        "plt.show()"
      ],
      "metadata": {
        "id": "1q-CQ1pzFijp"
      },
      "execution_count": null,
      "outputs": []
    },
    {
      "cell_type": "code",
      "source": [
        "def ope (ertka):\n",
        "  \n",
        "  struct_el = cv2.getStructuringElement(cv2.MORPH_RECT, (3,3))\n",
        "  diluted_ertka = cv2.dilate(ertka, struct_el)\n",
        "  eroded_ertka = cv2.erode(ertka, struct_el)\n",
        "  open_ertka = cv2.morphologyEx(ertka, cv2.MORPH_OPEN, struct_el)\n",
        "  closed_ertka = cv2.morphologyEx(ertka, cv2.MORPH_CLOSE, struct_el)\n",
        "\n",
        "  fig, axs = plt.subplots(1, 5)\n",
        "\n",
        "  fig.set_size_inches(25, 25)\n",
        "  axs[0].imshow(diluted_ertka, 'gray')\n",
        "  axs[0].axis('off')\n",
        "  axs[0].set_title(\"obraz po dylatacji\")\n",
        "\n",
        "  axs[1].imshow(eroded_ertka, 'gray')\n",
        "  axs[1].axis('off')\n",
        "  axs[1].set_title(\"obraz po erozji\")\n",
        "\n",
        "  axs[2].imshow(closed_ertka, 'gray')\n",
        "  axs[2].axis('off')\n",
        "  axs[2].set_title(\"obraz po zamknięciu\")\n",
        "\n",
        "  axs[3].imshow(open_ertka, 'gray')\n",
        "  axs[3].axis('off')\n",
        "  axs[3].set_title(\"obraz po otwarciu\")\n",
        "\n",
        "  axs[4].imshow(ertka, 'gray')\n",
        "  axs[4].axis('off')\n",
        "  axs[4].set_title(\"obraz orginalna\")\n",
        "\n",
        "  fig.show()\n",
        "\n",
        "ope(ertka)\n",
        "ope(wyspa)\n",
        "ope(kolka)"
      ],
      "metadata": {
        "id": "sZ1uxaedIAmw"
      },
      "execution_count": null,
      "outputs": []
    },
    {
      "cell_type": "code",
      "source": [
        "struct_el = cv2.getStructuringElement(cv2.MORPH_RECT, (3,3))\n",
        "open_ertka = cv2.morphologyEx(ertka, cv2.MORPH_OPEN, struct_el)\n",
        "diluted_ertka = cv2.dilate(open_ertka, struct_el, iterations = 2)\n",
        "\n",
        "plt.imshow(diluted_ertka, 'gray')\n",
        "plt.axis('off')\n",
        "plt.title(\"czysta ertka\")\n",
        "\n",
        "plt.show"
      ],
      "metadata": {
        "id": "Cp9Lm46mApCK"
      },
      "execution_count": null,
      "outputs": []
    },
    {
      "cell_type": "markdown",
      "source": [
        "Pozwala ona wykryć na obrazie obecność elementów, które dokładnie odpowiadają masce.\n",
        "Wczytaj obraz hom.bmp. Wyświetl go. Załóżmy, że chcemy wykryć na obrazie krzyżyki 3x3. Zdefiniuj następujący element strukturalny:\n",
        "[0,1,0]\n",
        "[1,1,1]\n",
        "[0,1,0]\n",
        "Wykonaj transformację trafi, nie trafi – cv2.morphologyEx(hom, cv2.MORPH_HITMISS, se1). Rezultat operacji wyświetl. Czy udało się zrealizować zadanie? Jeżeli pojawiają się u Państwa błędy związane z typem danych, należy obraz wejściowy przekonwertować na skalę szarości: cv2.cvtColor(hom, cv2.COLOR_BGR2GRAY)."
      ],
      "metadata": {
        "id": "oWG7HbD-CE5W"
      }
    },
    {
      "cell_type": "code",
      "source": [
        "plt.imshow(hom, 'gray')\n",
        "plt.axis('off')\n",
        "plt.title(\"hom\")\n",
        "\n",
        "plt.show"
      ],
      "metadata": {
        "id": "0KMuSpxeBiDH"
      },
      "execution_count": null,
      "outputs": []
    },
    {
      "cell_type": "code",
      "source": [
        "struct_el = np.array([[0,1,0],[1,1,1],[0,1,0]],np.uint8)\n",
        "hit_or_miss = cv2.morphologyEx(hom, cv2.MORPH_HITMISS, struct_el)\n",
        "\n",
        "plt.imshow(hit_or_miss, 'gray')\n",
        "plt.axis('off')\n",
        "plt.title(\"hom trafi nie trafi\")\n",
        "\n",
        "plt.show"
      ],
      "metadata": {
        "id": "2riH9QAMCONb"
      },
      "execution_count": null,
      "outputs": []
    },
    {
      "cell_type": "markdown",
      "metadata": {
        "id": "FAsVYcLD6apQ"
      },
      "source": [
        "## Inne operacje morfologiczne\n",
        "Do innych operacji morfologicznych należą między innymi ścienianie (ang. _thinning_), szkieletyzacja (ang. _skeletonization_), rekonstrukcja morfologiczna (ang. _morphological reconstruction_), czyszczenie brzegu (ang. _clearing border_) i uzupełnianie dziur (ang. _filling holes_). W tym rozdziale zostanie zaprezentowana rekonstrukcja morfologiczna.\n",
        "\n",
        "Rekonstrukcja morfologiczna jest operacją trójargumentową. Wymaga podania markera (obrazu, od którego zacznie się transformacja), maski (ograniczenia transformacji) oraz elementu strukturalnego. Operacja polega na wykonywaniu kroków (dopóki w dwóch kolejnych iteracjach nic się nie zmieni):\n",
        "- dylatacja obrazu markera (z danym elementem strukturalnym),\n",
        "- nowy marker = część wspólna dylatacji starego markera i maski.\n",
        "\n",
        "Trzy operacje, które wykorzystują schemat rekonstrukcji to: \n",
        "- otwarcie poprzez rekonstrukcję,\n",
        "- wypełnianie dziur,\n",
        "- czyszczenie brzegu.\n",
        "\n",
        "### Otwarcie poprzez rekonstrukcję:\n",
        "- Wczytaj obraz text.bmp, wyświetl go.\n",
        "- Załóżmy, że chcemy wykryć na obrazie litery, które zawierają długie pionowe fragmenty. W pierwszym podejściu stosujemy morfologiczne otwarcie z maską pionową o wysokości 51 pikseli (taka jest średnia wysokość liter na obrazie – `np.ones((51,1))`. Sprawdź rezultat takiej operacji.\n",
        "- Detekcja wprawdzie sie udała, ale otrzymujemy tylko pionowe kreski.\n",
        "- Rozwiązaniem jest rekonstrukcja – jako marker wybieramy obraz oryginalny poddany erozji. Maskę stanowi obraz oryginalny. Samodzielnie dobierz element strukturalny.\n",
        "- Zaimplementuj rekonstrukcję i porównaj efekt otwarcia i rekonstrukcji.\n"
      ]
    },
    {
      "cell_type": "code",
      "execution_count": null,
      "metadata": {
        "id": "_aHw2LJi6apR"
      },
      "outputs": [],
      "source": [
        "plt.imshow(text, 'gray')\n",
        "plt.axis('off')\n",
        "plt.show()\n",
        "\n",
        "struct_el = np.ones((51,1))\n",
        "open_text = cv2.morphologyEx(text,cv2.MORPH_OPEN, struct_el)\n",
        "plt.imshow(open_text, 'gray')\n",
        "plt.axis('off')\n",
        "plt.show()\n",
        "\n",
        "mask = text\n",
        "marker = cv2.erode(text,struct_el)\n",
        "struct_el = cv2.getStructuringElement(cv2.MORPH_RECT, (3,3))\n",
        "it = 0\n",
        "\n",
        "while True:\n",
        "\n",
        "    diluted_marker = cv2.dilate(marker, struct_el)\n",
        "    new_marker = cv2.bitwise_and(diluted_marker, mask)\n",
        "\n",
        "    if (marker == new_marker).all():\n",
        "        marker = new_marker\n",
        "        it += 1\n",
        "        if it == 2:\n",
        "          break\n",
        "          \n",
        "    marker = new_marker\n",
        "    \n",
        "plt.imshow(marker, 'gray')\n",
        "plt.axis('off')\n",
        "plt.show()"
      ]
    },
    {
      "cell_type": "markdown",
      "metadata": {
        "id": "jF8sLgVw6apR"
      },
      "source": [
        "## Operacje morfologiczne dla obrazów w skali szarości\n",
        "\n",
        "Wszystkie dotychczasowe operacje (oprócz transformacji trafi, nie trafi) mają swoje odpowieniki dla obrazów w skali szarości. Konieczne jest tylko podanie definicji erozji i dylatacji w nieco innej formie:\n",
        "- Erozja – filtr minimalny.\n",
        "- Dylatacja – filtr maksymalny.\n",
        "\n",
        "\n",
        "1. Wczytaj obraz ferrari.bmp i wykonaj operacje morfologiczne: erozję i dylatację. Element strukturalny ustal na kwadrat 3×3. Oblicz też różnicę pomiędzy obrazem po dylatacji a po erozji – czyli tzw. gradient morfologiczny. Rezultaty wyświetl na wspólnym wykresie.\n",
        "2. Otwarcie to tłumienie jasnych detali na obrazie. Zamkniecie to tłumienie ciemnych detali na obrazie. Potwierdź powyższe stwierdzenia wykonując obie operacje na obrazie _ferrari_.\n",
        "3. Wykonaj operacje top-hat i bottom-hat `cv2.morphologyEx(img, cv2.MORPH_TOPHAT, strel)` oraz `cv2.morphologyEx(img, cv2.MORPH_BLACKHAT, strel)` na obrazie _ferrari_. Jakie obszary udało sie wykryć za pomocą tej operacji? Z jakich operacji składa sie filtr top-hat?\n",
        "4. Wczytaj obraz rice.png (z laboratorium o binaryzacji). Wyświetl go. Zwróć uwage na niejednorodne oświetlenie. Wykonaj operacje top-hat z dużym elementem strukturalnym (np. koło o rozmiarze 10) na tym obrazie. Wynik wyświetl. Co stało się z niejednorodnością oświetlenia?"
      ]
    },
    {
      "cell_type": "code",
      "execution_count": null,
      "metadata": {
        "pycharm": {
          "name": "#%%\n"
        },
        "id": "VLQo2A7Y6apS"
      },
      "outputs": [],
      "source": [
        "struct_el = cv2.getStructuringElement(cv2.MORPH_RECT, (3,3))\n",
        "diluted_ferrari = cv2.dilate(ferrari,struct_el)\n",
        "eroded_ferrari = cv2.erode(ferrari,struct_el)\n",
        "\n",
        "diff = diluted_ferrari - eroded_ferrari\n",
        "\n",
        "fig, axs = plt.subplots(1, 4)\n",
        "\n",
        "fig.set_size_inches(25, 25)\n",
        "axs[0].imshow(ferrari, 'gray')\n",
        "axs[0].axis('off')\n",
        "axs[0].set_title(\"obraz orginalny\")\n",
        "\n",
        "axs[1].imshow(eroded_ferrari, 'gray')\n",
        "axs[1].axis('off')\n",
        "axs[1].set_title(\"obraz po erozji\")\n",
        "\n",
        "axs[2].imshow(diluted_ferrari, 'gray')\n",
        "axs[2].axis('off')\n",
        "axs[2].set_title(\"obraz po dylatacji\")\n",
        "\n",
        "axs[3].imshow(diff, 'gray')\n",
        "axs[3].axis('off')\n",
        "axs[3].set_title(\"gradient morfologiczny\")\n",
        "\n",
        "\n",
        "fig.show()"
      ]
    },
    {
      "cell_type": "code",
      "source": [
        "open_ferrari = cv2.morphologyEx(ferrari,cv2.MORPH_OPEN, struct_el)\n",
        "closed_ferrari = cv2.morphologyEx(ferrari,cv2.MORPH_CLOSE,struct_el)\n",
        "\n",
        "    \n",
        "plt.imshow(open_ferrari, 'gray')\n",
        "plt.axis('off')\n",
        "plt.title(\"otwarte ferrari\")\n",
        "plt.show()\n",
        "\n",
        "    \n",
        "plt.imshow(closed_ferrari , 'gray')\n",
        "plt.axis('off')\n",
        "plt.title(\"zamknięte ferrari\")\n",
        "plt.show()\n"
      ],
      "metadata": {
        "id": "yAxq7KkvH88z"
      },
      "execution_count": null,
      "outputs": []
    },
    {
      "cell_type": "code",
      "source": [
        "ferrari_top=cv2.morphologyEx(ferrari, cv2.MORPH_TOPHAT, struct_el)\n",
        "ferrari_bla=cv2.morphologyEx(ferrari, cv2.MORPH_BLACKHAT,struct_el)\n",
        "\n",
        "plt.imshow(ferrari_top, 'gray')\n",
        "plt.title(\"ferrari tophat\")\n",
        "plt.axis('off')\n",
        "plt.show()\n",
        "\n",
        "    \n",
        "plt.imshow(ferrari_bla, 'gray')\n",
        "plt.title(\"ferrari blackhat\")\n",
        "plt.axis('off')\n",
        "plt.show()"
      ],
      "metadata": {
        "id": "t-LMnxFEJB3O"
      },
      "execution_count": null,
      "outputs": []
    },
    {
      "cell_type": "code",
      "source": [
        "plt.imshow(rice, 'gray')\n",
        "plt.title(\"ryż\")\n",
        "plt.axis('off')\n",
        "plt.show()\n",
        "\n",
        "struct_el = cv2.getStructuringElement(cv2.MORPH_ELLIPSE, (10,10))\n",
        "rice_top=cv2.morphologyEx(rice, cv2.MORPH_TOPHAT, struct_el)\n",
        "\n",
        "plt.imshow(rice_top, 'gray')\n",
        "plt.title(\"ryż\")\n",
        "plt.axis('off')\n",
        "plt.show()"
      ],
      "metadata": {
        "id": "VYmfXdDf04k9"
      },
      "execution_count": null,
      "outputs": []
    },
    {
      "cell_type": "markdown",
      "metadata": {
        "id": "X-24Sg6g6apS"
      },
      "source": [
        "## Przykład zastosowania morfologii\n",
        "\n",
        "1. Wczytaj obraz calculator.bmp. Wyświetl go. Zadanie do realizacji: wyizolować tekst na klawiszach kalkulatora.\n",
        "2. W pierwszym kroku usunięte zostaną poziome odbicia znajdujące się na górnej krawędzi każdego z klawiszy. Wykorzystamy fakt, że odbicie jest dłuższe niż jakikolwiek pojedynczy znak. Wykonujemy otwarcie przez rekonstrukcję (można wykorzystać kod z wcześniejszego zadania, ale tym razem mamy do czynienia z obrazem w skali szarości zamiast z binarnym – proszę się zastanowić, jaka operacja jest odpowiednikiem operacji AND?):\n",
        "  - początkowo wykonujemy erozję z elementem strukturalnym w postaci poziomej linii — `np.ones((1,71))`,\n",
        "  - następnie dokonujemy rekonstrukcji: marker – obraz po erozji, maska – obraz oryginalny,\n",
        "  - wynik operacji wyświetl. Dla porównania wyświetl wynik klasycznego otwarcia z takim samym elementem strukturalnym. W czym otwarcie przez rekonstrukcję jest lepsze od klasycznego?\n",
        "3. W poprzednim kroku (tj. w wyniku otwarcia przez rekonstrukcję) uzyskaliśmy obraz tła. Należy go teraz odjąć od obrazu oryginalnego. Ten rodzaj operacji można nazwać top-hat poprzez rekonstrukcję. Wynik wyświetl. Dla porównania wyświetl wynik klasycznej operacji top-hat – różnicy miedzy obrazem oryginalnym a obrazem po klasycznym otwarciu.\n",
        "4. W podobny sposób należy zlikwidować odblaski pionowe:\n",
        "  - erozja z elementem strukturalnym w postaci poziomej linii – `np.ones((1,11))` – zostaną zachowane wszystkie znaki (bo prawie wszystkie są szersze). Uwaga. Operacje wykonujemy na uzyskanym w kroku 3 rezultacie odjęcia od obrazu oryginalnego, obrazu po rekonstrukcji.\n",
        "  - rekonstrukcja: marker – obraz po erozji, maska – obraz z punktu 3 (różnica oryginalnego i tła),\n",
        "  - wynik wyświetl.\n",
        "5. Rezultat jest niemal satysfakcjonujący, ale wystąpił problem z cienkimi pionowymi elementami napisów – np. I na klawiszu ASIN. Wykorzystując fakt, że usunięte znaki znajdują się w bezpośrednim sąsiedztwie istniejących znaków wykonujemy następujące operacje:\n",
        "  - dylatacja z elementem `np.ones((1,21))`,\n",
        "  - rekonstrukcja z markerem w postaci – minimum(obraz po dylatacji z punktu powyżej, obraz uzyskany w punkcie 3, tj. różnica oryginalnego i tła) oraz maską – obraz z pkt. 3.\n",
        "6. Rezultat wyświetl. Czy za pomocą zaproponowanych operacji udało się uzyskać zamierzony efekt – ekstrakcję napisów?\n"
      ]
    },
    {
      "cell_type": "code",
      "execution_count": null,
      "metadata": {
        "pycharm": {
          "name": "#%%\n"
        },
        "id": "yUaLFLo46apT"
      },
      "outputs": [],
      "source": [
        "plt.imshow(calc, 'gray')\n",
        "plt.title(\"kalkulator\")\n",
        "plt.axis('off')\n",
        "plt.show()"
      ]
    },
    {
      "cell_type": "code",
      "source": [
        "struct_el = np.ones((1,71))\n",
        "open_calc = cv2.morphologyEx(calc,cv2.MORPH_OPEN, struct_el)\n",
        "plt.imshow(open_calc, 'gray')\n",
        "plt.axis('off')\n",
        "plt.show()\n",
        "\n",
        "mask = calc\n",
        "marker = cv2.erode(calc,struct_el)\n",
        "\n",
        "struct_el = cv2.getStructuringElement(cv2.MORPH_RECT, (3,3))\n",
        "it = 0\n",
        "X,Y = mask.shape\n",
        "\n",
        "\n",
        "while True:\n",
        "\n",
        "    diluted_marker = cv2.dilate(marker, struct_el)\n",
        "    new_marker = np.min((diluted_marker, mask),axis=0)\n",
        "\n",
        "    if (marker == new_marker).all():\n",
        "        it += 1\n",
        "        if it == 2:\n",
        "          marker = new_marker\n",
        "          break\n",
        "          \n",
        "    marker = new_marker\n",
        "    \n",
        "plt.imshow(marker, 'gray')\n",
        "plt.axis('off')\n",
        "plt.show()\n"
      ],
      "metadata": {
        "id": "TCHPJhkg0Xk5"
      },
      "execution_count": null,
      "outputs": []
    },
    {
      "cell_type": "markdown",
      "source": [
        "Dla klasycznego otwarcia ciemne obszary zlewają się ze sobą"
      ],
      "metadata": {
        "id": "Uqb3HygcGfo4"
      }
    },
    {
      "cell_type": "code",
      "source": [
        "diff = calc - marker\n",
        "top_calc=cv2.morphologyEx(calc, cv2.MORPH_TOPHAT, np.ones((1,71)))\n",
        "\n",
        "plt.imshow(diff, 'gray')\n",
        "plt.axis('off')\n",
        "plt.title(\"nasza funkcja\")\n",
        "plt.show()\n",
        "\n",
        "plt.imshow(top_calc, 'gray')\n",
        "plt.axis('off')\n",
        "plt.title(\"tophat\")\n",
        "plt.show()"
      ],
      "metadata": {
        "id": "hG9hWXPW7BqT"
      },
      "execution_count": null,
      "outputs": []
    },
    {
      "cell_type": "code",
      "source": [
        "struct_el = np.ones((1,11))\n",
        "\n",
        "mask = diff\n",
        "marker = cv2.erode(diff,struct_el)\n",
        "\n",
        "struct_el = cv2.getStructuringElement(cv2.MORPH_RECT, (3,3))\n",
        "it = 0\n",
        "\n",
        "while True:\n",
        "\n",
        "    diluted_marker = cv2.dilate(marker, struct_el)\n",
        "    new_marker = np.min((diluted_marker, mask),axis=0)\n",
        "\n",
        "    if (marker == new_marker).all():\n",
        "        it += 1\n",
        "        if it == 2:\n",
        "          marker = new_marker\n",
        "          break\n",
        "          \n",
        "    marker = new_marker\n",
        "    \n",
        "plt.imshow(marker, 'gray')\n",
        "plt.axis('off')\n",
        "plt.show()"
      ],
      "metadata": {
        "id": "DMJR7jBaGwxB"
      },
      "execution_count": null,
      "outputs": []
    },
    {
      "cell_type": "code",
      "source": [
        "struct_el = np.ones((1,21))\n",
        "\n",
        "\n",
        "calc_dyl=cv2.dilate(marker,struct_el)\n",
        "\n",
        "\n",
        "mask = diff\n",
        "marker = np.min((calc_dyl,diff),axis=0)\n",
        "struct_el = cv2.getStructuringElement(cv2.MORPH_RECT, (3,3))\n",
        "it = 0\n",
        "\n",
        "while True:\n",
        "\n",
        "    diluted_marker = cv2.dilate(marker, struct_el)\n",
        "    new_marker = np.min((diluted_marker, mask),axis=0)\n",
        "\n",
        "    if (marker == new_marker).all():\n",
        "        it += 1\n",
        "        if it == 2:\n",
        "          marker = new_marker\n",
        "          break\n",
        "    marker = new_marker\n",
        "    \n",
        "plt.imshow(marker, 'gray')\n",
        "plt.axis('off')\n",
        "plt.show()"
      ],
      "metadata": {
        "id": "0b0jRASJHZQJ"
      },
      "execution_count": null,
      "outputs": []
    },
    {
      "cell_type": "markdown",
      "source": [
        "Tak, udało się wykonać ekstrację napisów."
      ],
      "metadata": {
        "id": "qD3asW3KKJHO"
      }
    }
  ],
  "metadata": {
    "celltoolbar": "Raw Cell Format",
    "kernelspec": {
      "display_name": "Python 3",
      "language": "python",
      "name": "python3"
    },
    "language_info": {
      "codemirror_mode": {
        "name": "ipython",
        "version": 3
      },
      "file_extension": ".py",
      "mimetype": "text/x-python",
      "name": "python",
      "nbconvert_exporter": "python",
      "pygments_lexer": "ipython3",
      "version": "3.9.10"
    },
    "colab": {
      "name": "10_morphology.ipynb",
      "provenance": [],
      "collapsed_sections": []
    }
  },
  "nbformat": 4,
  "nbformat_minor": 0
}