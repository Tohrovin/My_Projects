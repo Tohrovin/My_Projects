{
  "cells": [
    {
      "cell_type": "markdown",
      "metadata": {
        "id": "pRDXc58JPhk6"
      },
      "source": [
        "# Przetwarzanie wstępne. Filtracja kontekstowa.\n",
        "\n",
        "\n",
        "### Cel:\n",
        "- zapoznanie z pojęciem kontekstu / filtracji kontekstowej,\n",
        "- zapoznanie z pojęciem konwolucji (splotu),\n",
        "- zapoznanie z wybranymi filtrami:\n",
        "\t- filtry liniowe dolnoprzepustowe:\n",
        "\t\t- filtr uśredniający,\n",
        "\t\t- filtr Gaussa.\n",
        "\t- filtry nielinowe:\n",
        "\t\t- mediana,\n",
        "\t\t- mediana dla obrazów kolorowych.\n",
        "\t- filtry liniowe górnoprzepustowe:\n",
        "\t\t\t- laplasjan,\n",
        "\t\t\t- operator Robertsa, Prewitta, Sobela.\n",
        "- zadanie domowe: adaptacyjna filtracja medianowa.\n",
        "\n",
        "### Filtry liniowe uśredniające (dolnoprzepustowe)\n",
        "\n",
        "Jest to podstawowa rodzina filtrów stosowana w cyfrowym przetwarzaniu obrazów. \n",
        "Wykorzystuje się je w celu \"rozmazania\" obrazu i tym samym redukcji szumów (zakłóceń) na obrazie.\n",
        "Filtr określony jest przez dwa parametry: rozmiar maski (ang. _kernel_) oraz wartości współczynników maski.\n",
        "\n",
        "Warto zwrócić uwagę, że omawiane w niniejszym rozdziale operacje generują nową wartość piksela na podstawie pewnego fragmentu obrazu (tj. kontekstu), a nie jak operacje punktowe tylko na podstawie jednego piksela.\n",
        "\n",
        "\n",
        "1. Wczytaj obraz _plansza.png_.\n",
        "W dalszej części ćwiczenia sprawdzenie działania filtracji dla innych obrazów sprowadzi się do wczytania innego pliku.\n",
        "\n",
        "2. Podstawowa funkcja to `cv2.filter2D`  - realizacja filtracji konwolucyjnej.\n",
        "   Proszę sprawdzić jej dokumentację i zwrócić uwagę na obsługę problemu brzegowego (na krawędziach istnieją piksele dla których nie da się wyznaczyć otoczenia).\n",
        "\n",
        "  Uwaga. Problem ten można też rozwiązać z użyciem funkcji `signal.convolve2d` z biblioteki _scipy_ (`from scipy import signal`).\n",
        "\n",
        "3. Stwórz podstawowy filtr uśredniający o rozmiarze $3 \\times 3$ -- za pomocą funkcji `np.ones`. Wykonaj konwolucję na wczytanym obrazie. Na wspólnym rysunku wyświetl obraz oryginalny, po filtracji oraz moduł z różnicy.\n",
        "\n",
        "4. Przeanalizuj otrzymane wyniki. Jakie elementy zawiera obraz \"moduł z różnicy\"? Co na tej podstawie można powiedzieć o filtracji dolnoprzepustowej?"
      ]
    },
    {
      "cell_type": "code",
      "execution_count": null,
      "metadata": {
        "id": "ESHFIF1JPhk-"
      },
      "outputs": [],
      "source": [
        "import matplotlib.pyplot as plt\n",
        "import cv2\n",
        "import os\n",
        "import numpy as np\n",
        "from scipy import signal\n",
        "\n",
        "\n",
        "# Obrazki\n",
        "if not os.path.exists(\"jet.png\") :\n",
        "    !wget https://raw.githubusercontent.com/vision-agh/poc_sw/master/06_Context/jet.png --no-check-certificate\n",
        "if not os.path.exists(\"kw.png\") :\n",
        "    !wget https://raw.githubusercontent.com/vision-agh/poc_sw/master/06_Context/kw.png --no-check-certificate\n",
        "if not os.path.exists(\"moon.png\") :\n",
        "    !wget https://raw.githubusercontent.com/vision-agh/poc_sw/master/06_Context/moon.png --no-check-certificate\n",
        "if not os.path.exists(\"lenaSzum.png\") :\n",
        "    !wget https://raw.githubusercontent.com/vision-agh/poc_sw/master/06_Context/lenaSzum.png --no-check-certificate\n",
        "if not os.path.exists(\"lena.png\") :\n",
        "    !wget https://raw.githubusercontent.com/vision-agh/poc_sw/master/06_Context/lena.png --no-check-certificate\n",
        "if not os.path.exists(\"plansza.png\") :\n",
        "    !wget https://raw.githubusercontent.com/vision-agh/poc_sw/master/06_Context/plansza.png --no-check-certificate\n",
        "\n",
        "\n",
        "plansza = cv2.imread(\"plansza.png\", cv2.IMREAD_GRAYSCALE)"
      ]
    },
    {
      "cell_type": "code",
      "source": [
        "def show(image, title = 0):\n",
        "  plt.imshow(image)\n",
        "  plt.gray()\n",
        "  plt.xticks([]), plt.yticks([])\n",
        "  if title != 0:\n",
        "    plt.title(title)\n",
        "  plt.show()\n",
        "\n",
        "\n",
        "maska = np.ones((3,3))/9\n",
        "new_plansza = cv2.filter2D(plansza, -1, maska)\n",
        "diff = np.abs(plansza-new_plansza)\n",
        "\n",
        "show(plansza,\"obraz przed filtracją\")\n",
        "\n",
        "show(new_plansza,\"obraz po filtracji\")\n",
        "\n",
        "show(diff,\"Moduł z różnicy\")\n",
        "\n",
        "\n"
      ],
      "metadata": {
        "id": "rj7jfD60QCoF"
      },
      "execution_count": null,
      "outputs": []
    },
    {
      "cell_type": "markdown",
      "source": [
        "Największe różnice (kolor biały) występują  miejscu gwałtownej zmiany koloru. To znaczy, że nasz filtr wpływa głównie na te miejsca (zmiejszając przeskok kolorów - rozmazuje obraz)"
      ],
      "metadata": {
        "id": "ihFhWYqsWrNV"
      }
    },
    {
      "cell_type": "markdown",
      "metadata": {
        "id": "nmcda97DPhlA"
      },
      "source": [
        "5. Na wspólnym rysunku wyświetl wyniki filtracji uśredniającej z oknem o rozmiarze 3, 5, 9, 15 i 35. \n",
        "Wykorzystaj polecenie `plt.subplot`. \n",
        "Przeanalizuj wpływ rozmiaru maski na wynik. "
      ]
    },
    {
      "cell_type": "code",
      "execution_count": null,
      "metadata": {
        "id": "O_PBH6DQPhlA"
      },
      "outputs": [],
      "source": [
        "def basic_filter (image, size):\n",
        "\n",
        "    mask = np.ones((size,size))/(size**2)\n",
        "    new_image = cv2.filter2D(image, -1, mask)\n",
        "    return new_image\n",
        "\n",
        "\n",
        "zad5, (ax1,ax2,ax3,ax4,ax5) = plt.subplots(1,5, figsize=(13,5))\n",
        "\n",
        "plansza3=basic_filter(plansza,3)\n",
        "plansza5=basic_filter(plansza,5)\n",
        "plansza9=basic_filter(plansza,9)\n",
        "plansza15=basic_filter(plansza,15)\n",
        "plansza35=basic_filter(plansza,35)\n",
        "\n",
        "ax1.imshow(plansza3)\n",
        "ax1.axis('off')\n",
        "ax1.set_title(\"Okno o rozmiarze 3\")\n",
        "\n",
        "ax2.imshow(plansza5)\n",
        "ax2.axis('off')\n",
        "ax2.set_title(\"Okno o rozmiarze 5\")\n",
        "\n",
        "\n",
        "ax3.imshow(plansza9)\n",
        "ax3.axis('off')\n",
        "ax3.set_title(\"Okno o rozmiarze 39\")\n",
        "\n",
        "ax4.imshow(plansza15)\n",
        "ax4.axis('off')\n",
        "ax4.set_title(\"Okno o rozmiarze 15\")\n",
        "\n",
        "ax5.imshow(plansza35)\n",
        "ax5.axis('off')\n",
        "ax5.set_title(\"Okno o rozmiarze 35\")\n"
      ]
    },
    {
      "cell_type": "markdown",
      "source": [
        "Im większy rozmiar maski w filtrze uśredniającym tym większe rozmazanie"
      ],
      "metadata": {
        "id": "iKUQQKLKYvdE"
      }
    },
    {
      "cell_type": "markdown",
      "metadata": {
        "id": "IhoPQ052PhlB"
      },
      "source": [
        "6. Wczytaj obraz _lena.png_.\n",
        "Zaobserwuj efekty filtracji dolnoprzepustowej dla obrazu rzeczywistego."
      ]
    },
    {
      "cell_type": "code",
      "execution_count": null,
      "metadata": {
        "id": "RwXdHb2VPhlB"
      },
      "outputs": [],
      "source": [
        "lena = cv2.imread(\"lena.png\", cv2.IMREAD_GRAYSCALE)\n",
        "new_lena = basic_filter(lena,3)\n",
        "\n",
        "show(lena, \"Orginalna Lena :D\")\n",
        "show(lena, \"Lena po filtracji\")\n",
        "show(np.abs(lena-new_lena), \"różnica Len\")"
      ]
    },
    {
      "cell_type": "markdown",
      "metadata": {
        "id": "1lYRyC5IPhlC"
      },
      "source": [
        "7. Niekorzystny efekt towarzyszący wykonanym filtracjom dolnoprzepustowym to utrata ostrości. \n",
        "Częściowo można go zniwelować poprzez odpowiedni dobór maski. \n",
        "Wykorzystaj maskę:  `M = np.array([1 2 1; 2 4 2; 1 2 1])`. \n",
        "Przed obliczeniami należy jeszcze wykonać normalizację - podzielić każdy element maski przez sumę wszystkich elementów: `M = M/sum(sum(M));`.\n",
        "Tak przygotowaną maskę wykorzystaj w konwolucji - wyświetl wyniki tak jak wcześniej.\n",
        "Możliwe jest też wykorzystywanie innych masek - współczynniki można dopasowywać do konkretnego problemu."
      ]
    },
    {
      "cell_type": "code",
      "execution_count": null,
      "metadata": {
        "id": "w3brIdmKPhlC"
      },
      "outputs": [],
      "source": [
        "def Mfilter (image, mask):\n",
        "\n",
        "    new_image = cv2.filter2D(image, -1, mask)\n",
        "    return new_image\n",
        "\n",
        "\n",
        "M = np.array([[1,2,1],[2,4,2],[1,2,1]])\n",
        "M = M/np.sum(np.sum(M));\n",
        "\n",
        "Mplansza=Mfilter(plansza,M)\n",
        "MLena=Mfilter(lena,M)\n",
        "\n",
        "diff = np.abs(plansza-Mplansza)\n",
        "diff_Len = np.abs(lena-MLena)\n",
        "\n",
        "fig, axs = plt.subplots(3, 2, figsize=(9,12))\n",
        "axs[0,0].imshow(plansza)\n",
        "axs[0,0].set_title(\"obraz przed filtracją\")\n",
        "axs[0,0].axis('off')\n",
        "\n",
        "axs[0,1].imshow(lena)\n",
        "axs[0,1].set_title(\"Lena przed filtracją\")\n",
        "axs[0,1].axis('off')\n",
        "\n",
        "\n",
        "axs[1,0].imshow(Mplansza)\n",
        "axs[1,0].set_title(\"obraz po filtracji\")\n",
        "axs[1,0].axis('off')\n",
        "\n",
        "axs[1,1].imshow(MLena)\n",
        "axs[1,1].set_title(\"Lena po filtracji\")\n",
        "axs[1,1].axis('off')\n",
        "\n",
        "\n",
        "axs[2,0].imshow(diff)\n",
        "axs[2,0].set_title(\"Moduł z różnicy\")\n",
        "axs[2,0].axis('off')\n",
        "\n",
        "axs[2,1].imshow(diff_Len)\n",
        "axs[2,1].set_title(\"Moduł z różnicy Len\")\n",
        "axs[2,1].axis('off')\n",
        "\n"
      ]
    },
    {
      "cell_type": "markdown",
      "metadata": {
        "id": "8BgszrgqPhlD"
      },
      "source": [
        "8. Skuteczną i często wykorzystywaną maską jest tzw. maska Gasussa.\n",
        "Jest to zbiór liczb, które aproksymują dwuwymiarowy rozkład Gaussa. \n",
        "Parametrem jest odchylenie standardowe i rozmiar maski.\n",
        "\n",
        "9. Wykorzystując przygotowaną funkcję `fgaussian` stwórz maskę o rozmiarze $5 \\times 5$ i odchyleniu standardowym 0.5.\n",
        "  Wykorzystując funkcję `mesh` zwizualizuj filtr.\n",
        "  Sprawdź jak parametr `odchylenie standardowe` wpływa na `kształt` filtru.\n",
        "\n",
        "  Uwaga. W OpenCV dostępna jest *dedykowana* funkcja do filtracji Gaussa - `GaussianBlur`.\n",
        "  Proszę na jednym przykładzie porównać jej działanie z użytym wyżej rozwiązaniem.\n",
        "\n",
        "10. Wykonaj filtrację dla wybranych (2--3) wartości odchylenia standardowego.\n"
      ]
    },
    {
      "cell_type": "code",
      "execution_count": null,
      "metadata": {
        "scrolled": true,
        "id": "hyPGLSKpPhlD"
      },
      "outputs": [],
      "source": [
        "def fgaussian(size, sigma):\n",
        "     m = n = size\n",
        "     h, k = m//2, n//2\n",
        "     x, y = np.mgrid[-h:h+1, -k:k+1]\n",
        "     g = np.exp(-(x**2 + y**2)/(2*sigma**2))\n",
        "     return g /g.sum() \n",
        "    \n",
        "    \n",
        "def mesh(fun, size):\n",
        "    fig = plt.figure()\n",
        "    ax = fig.gca(projection='3d')\n",
        "    \n",
        "\n",
        "    X = np.arange(-size//2, size//2, 1)\n",
        "    Y = np.arange(-size//2, size//2, 1)\n",
        "    X, Y = np.meshgrid(X, Y)\n",
        "    Z = fun\n",
        "    \n",
        "    ax.plot_surface(X, Y, Z)\n",
        "    \n",
        "    plt.show()\n",
        "    \n",
        "\n",
        "gaus = fgaussian(5,0.5)\n",
        "mesh(gaus ,5)\n",
        "gaus2 = fgaussian(5,0.2)\n",
        "mesh(gaus2,5)\n",
        "gaus3  = fgaussian(5,.9)\n",
        "mesh(gaus3 ,5)\n"
      ]
    },
    {
      "cell_type": "code",
      "source": [
        "lena_gaus_cv = cv2.GaussianBlur(lena,(3,3),0.4)\n",
        "diff1=np.abs(lena-lena_gaus_cv)\n",
        "\n",
        "gaus = fgaussian(5,0.4)\n",
        "lena_gaus = Mfilter(lena, gaus)\n",
        "diff2=np.abs(lena-lena_gaus_cv)\n",
        "\n",
        "fig, axs = plt.subplots(2, 2, figsize=(12,12))\n",
        "\n",
        "axs[0,0].imshow(lena_gaus_cv)\n",
        "axs[0,0].set_title(\"Lena po filtracji CV2\")\n",
        "axs[0,0].axis('off')\n",
        "\n",
        "axs[0,1].imshow(lena_gaus)\n",
        "axs[0,1].set_title(\"Lena po filtracji\")\n",
        "axs[0,1].axis('off')\n",
        "\n",
        "\n",
        "axs[1,0].imshow(diff1)\n",
        "axs[1,0].set_title(\"Moduł z różnicy CV2\")\n",
        "axs[1,0].axis('off')\n",
        "\n",
        "axs[1,1].imshow(diff2)\n",
        "axs[1,1].set_title(\"Moduł z różnicy\")\n",
        "axs[1,1].axis('off')\n",
        "\n"
      ],
      "metadata": {
        "id": "kNWykg10dkR2"
      },
      "execution_count": null,
      "outputs": []
    },
    {
      "cell_type": "markdown",
      "metadata": {
        "id": "naJ6W0GGPhlE"
      },
      "source": [
        "### Filtry nieliniowe -- mediana\n",
        "\n",
        "Filtry rozmywające redukują szum, ale niekorzystnie wpływają na ostrość obrazu.\n",
        "Dlatego często wykorzystuje się filtry nieliniowe - np. filtr medianowy (dla przypomnienia: mediana - środkowa wartość w posortowanym ciągu liczb).\n",
        "\n",
        "Podstawowa różnica pomiędzy filtrami liniowymi, a nieliniowymi polega na tym, że przy filtracji liniowej na nową wartość piksela ma wpływ wartość wszystkich pikseli z otoczenia (np. uśrednianie, czasem ważone), natomiast w przypadku filtracji nieliniowej jako nowy piksel wybierana jest któraś z wartości otoczenia - według jakiegoś wskaźnika (wartość największa, najmniejsza czy właśnie mediana).\n",
        "\n",
        "\n",
        "1. Wczytaj obraz _lenaSzum.png_ (losowe 10% pikseli białych lub czarnych - tzw. zakłócenia impulsowe). Przeprowadź filtrację uśredniającą z rozmiarem maski 3x3. Wyświetl, podobnie jak wcześniej, oryginał, wynik filtracji i moduł z różnicy. Wykorzystując funkcję `cv2.medianBlur` wykonaj filtrację medianową _lenaSzum.png_ (z rozmiarem maski $3 \\times 3$). Wyświetl, podobnie jak wcześniej, oryginał, wynik filtracji i moduł z różnicy. Która filtracja lepiej radzi sobie z tego typu szumem?\n",
        "\n",
        "  Uwaga. Taki sam efekt da również użycie funkcji `signal.medfilt2d`.\n"
      ]
    },
    {
      "cell_type": "code",
      "execution_count": null,
      "metadata": {
        "id": "znffYuUYPhlE"
      },
      "outputs": [],
      "source": [
        "lena_szum = cv2.imread(\"lenaSzum.png\", cv2.IMREAD_GRAYSCALE)\n",
        "show(lena_szum)\n",
        "\n",
        "lena_gaus2=cv2.GaussianBlur(lena_szum,(3,3),3)\n",
        "diff1=np.abs(lena_szum-lena_gaus2)\n",
        "\n",
        "lena_median=cv2.medianBlur(lena_szum,3)\n",
        "diff2=np.abs(lena_szum-lena_median)\n",
        "\n",
        "fig, axs = plt.subplots(2, 2, figsize=(12,12))\n",
        "\n",
        "axs[0,0].imshow(lena_gaus2)\n",
        "axs[0,0].set_title(\"Lena po filtracji gaussem\")\n",
        "axs[0,0].axis('off')\n",
        "\n",
        "axs[0,1].imshow(lena_median)\n",
        "axs[0,1].set_title(\"Lena po filtracji medianowej\")\n",
        "axs[0,1].axis('off')\n",
        "\n",
        "\n",
        "axs[1,0].imshow(diff1)\n",
        "axs[1,0].set_title(\"Moduł z różnicy - filt. gauss\")\n",
        "axs[1,0].axis('off')\n",
        "\n",
        "axs[1,1].imshow(diff2)\n",
        "axs[1,1].set_title(\"Moduł z różnicy - filt. medianowa\")\n",
        "axs[1,1].axis('off')"
      ]
    },
    {
      "cell_type": "markdown",
      "metadata": {
        "id": "-9t9As1zPhlF"
      },
      "source": [
        "2. Przeprowadź filtrację uśredniającą, a następnie medianową obrazu _lena.png_.\n",
        "   Wyniki porównaj - dla obu wyświetl: oryginał, wynik filtracji i moduł z różnicy.\n",
        "   Szczególną uwagę zwróć na ostrość i krawędzie.\n",
        "   W której filtracji krawędzie zostają lepiej zachowane?"
      ]
    },
    {
      "cell_type": "code",
      "execution_count": null,
      "metadata": {
        "id": "HZRhLIlQPhlF"
      },
      "outputs": [],
      "source": [
        "lena_gaus=cv2.GaussianBlur(lena,(3,3),3)\n",
        "diff1=np.abs(lena_szum-lena_gaus)\n",
        "\n",
        "lena_median=cv2.medianBlur(lena,3)\n",
        "diff2=np.abs(lena_szum-lena_median)\n",
        "\n",
        "\n",
        "\n",
        "fig, axs = plt.subplots(3, 2, figsize=(9,15))\n",
        "axs[0,0].imshow(lena)\n",
        "axs[0,0].set_title(\"Lena przed filtracją gauss\")\n",
        "axs[0,0].axis('off')\n",
        "\n",
        "axs[0,1].imshow(lena)\n",
        "axs[0,1].set_title(\"Lena przed filtracją medianowej\")\n",
        "axs[0,1].axis('off')\n",
        "\n",
        "\n",
        "axs[1,0].imshow(lena_gaus)\n",
        "axs[1,0].set_title(\"Lena po filtracji gaus\")\n",
        "axs[1,0].axis('off')\n",
        "\n",
        "axs[1,1].imshow(lena_median)\n",
        "axs[1,1].set_title(\"Lena po filtracji medianowej\")\n",
        "axs[1,1].axis('off')\n",
        "\n",
        "\n",
        "axs[2,0].imshow(diff1)\n",
        "axs[2,0].set_title(\"Moduł z różnicy - filt. gauss\")\n",
        "axs[2,0].axis('off')\n",
        "\n",
        "axs[2,1].imshow(diff2)\n",
        "axs[2,1].set_title(\"Moduł z różnicy - filt. median\")\n",
        "axs[2,1].axis('off')"
      ]
    },
    {
      "cell_type": "markdown",
      "metadata": {
        "id": "XO3CCvnyPhlG"
      },
      "source": [
        "3. Ciekawy efekt można uzyskać wykonując filtrację medianową wielokrotnie. Określa się go mianem  posteryzacji.  W wyniku przetwarzania z obrazka usunięte zostają detale, a duże obszary uzyskują tą samą wartość jasności.  Wykonaj operację mediany $5 \\times 5$ na obrazie _lena.png_ 10-krotnie. (wykorzystaj np. pętlę `for`).\n",
        "\n",
        "\n",
        "Inne filtry nieliniowe:\n",
        "- filtr modowy - moda (dominanta) zamiast mediany,\n",
        "- filtr olimpijski - średnia z podzbioru otoczenia (bez wartości ekstremalnych),\n",
        "- hybrydowy filtr medianowy - mediana obliczana osobno w różnych podzbiorach otoczenia (np. kształt `x`, `+`), a jako wynik brana jest mediana ze zbioru wartość elementu centralnego, mediana z `x` i mediana z `+`,\n",
        "- filtr minimalny i maksymalny (będą omówione przy okazji operacji morfologicznych w dalszej części kursu).\n",
        "\n",
        "\n",
        "Warto zdawać sobie sprawę, z szerokich możliwości dopasowywania rodzaju filtracji do konkretnego rozważanego problemu i rodzaju zaszumienia występującego na obrazie."
      ]
    },
    {
      "cell_type": "code",
      "execution_count": null,
      "metadata": {
        "id": "voidtrwRPhlG"
      },
      "outputs": [],
      "source": [
        "lena_10 = cv2.imread(\"lena.png\", cv2.IMREAD_GRAYSCALE)\n",
        "\n",
        "for i in range (10):\n",
        "  lena_10=cv2.medianBlur(lena_10,5)\n",
        "\n",
        "diff10=np.abs(lena_10-lena)\n",
        "\n",
        "show(lena_10, \"Lena - postreryzacja\")\n",
        "show(diff10, 'różncia Len')"
      ]
    },
    {
      "cell_type": "markdown",
      "metadata": {
        "id": "rs2CXM84PhlJ"
      },
      "source": [
        "## Filtry liniowe górnoprzepustowe (wyostrzające, wykrywające krawędzie)\n",
        "\n",
        "Zadaniem filtrów górnoprzepustowych jest wydobywanie z obrazu składników odpowiedzialnych za szybkie zmiany jasności - konturów, krawędzi, drobnych elementów tekstury.\n",
        "\n",
        "### Laplasjan (wykorzystanie drugiej pochodnej obrazu)\n",
        "\n",
        "1. Wczytaj obraz _moon.png_.\n",
        "\n",
        "2. Wprowadź podstawową maskę laplasjanu:\n",
        "\\begin{equation}\n",
        "M = \n",
        "\\begin{bmatrix}\n",
        "0 & 1& 0 \\\\ 1 & -4 & 1 \\\\ 0 & 1 & 0\n",
        "\\end{bmatrix}\n",
        "\\tag{1}\n",
        "\\end{equation}\n",
        "\n",
        "3. Przed rozpoczęciem obliczeń należy dokonać normalizacji maski - dla rozmiaru $3 \\times 3$ podzielić każdy element przez sumę wag dodatnich (ewentualnie sumę modułów wszystkich wag).\n",
        "   Proszę zwrócić uwagę, że nie można tu zastosować takiej samej normalizacji, jak dla filtrów dolnoprzepustowych, gdyż skutkowałby to dzieleniem przez 0.\n",
        "\n",
        "4. Wykonaj konwolucję obrazu z maską (`c2.filter2D`). Przed wyświetleniem, wynikowy obraz należy poddać normalizacji (występują ujemne wartości). Najczęściej wykonuje się jedną z dwóch operacji:\n",
        "- skalowanie (np. poprzez dodanie 128 do każdego z pikseli),\n",
        "- moduł (wartość bezwzględna).\n",
        "\n",
        "Wykonaj obie normalizacje. \n",
        "Na wspólnym wykresie wyświetl obraz oryginalny oraz przefiltrowany po obu normalizacjach. "
      ]
    },
    {
      "cell_type": "code",
      "execution_count": null,
      "metadata": {
        "id": "A3AwyMZcPhlJ"
      },
      "outputs": [],
      "source": [
        "moon = cv2.imread(\"moon.png\", cv2.IMREAD_GRAYSCALE)\n",
        "\n",
        "M=np.array([[0,1,0],[1, -4, 1], [0,1,0]])\n",
        "M = M/np.sum(np.sum(np.abs(M)));\n",
        "\n",
        "moon_lap = Mfilter(moon, M)\n",
        "\n",
        "moon_lap_abs = (np.abs(moon_lap)/ np.max( np.abs(moon_lap)) * 255).astype('uint8')\n",
        "moon_lap_128 = moon_lap + 128\n",
        "\n",
        "diff1=np.abs(moon_lap_abs-moon)\n",
        "diff2=np.abs(moon_lap_128-moon)\n",
        "\n",
        "\n",
        "fig, (ax1,ax2,ax3) = plt.subplots(1,3, figsize=(13,5))\n",
        "\n",
        "ax1.imshow(moon)\n",
        "ax1.axis('off')\n",
        "ax1.set_title(\"Obraz orginalny\")\n",
        "\n",
        "ax2.imshow(moon_lap_abs)\n",
        "ax2.axis('off')\n",
        "ax2.set_title(\"Wartość bezwzględna\")\n",
        "\n",
        "\n",
        "ax3.imshow(moon_lap_128)\n",
        "ax3.axis('off')\n",
        "ax3.set_title(\"+128\")"
      ]
    },
    {
      "cell_type": "markdown",
      "metadata": {
        "id": "O8fvFBlsPhlJ"
      },
      "source": [
        "7. Efekt wyostrzenia uzyskuje się po odjęciu/dodaniu (zależy do maski) rezultatu filtracji laplasjanowej i oryginalnego obrazu. Wyświetl na jednym wykresie: obraz oryginalny, sumę oryginału i wyniku filtracji oraz różnicę (bezwzględną) oryginału i wyniku filtracji.\n",
        " Uwaga. Aby uniknąć artefaktów, należy obraz wejściowy przekonwertować do formatu ze znakiem.\n",
        "\n"
      ]
    },
    {
      "cell_type": "code",
      "execution_count": null,
      "metadata": {
        "id": "jwrV2xLsPhlK"
      },
      "outputs": [],
      "source": [
        "\n",
        "fig, (ax1,ax2,ax3) = plt.subplots(1,3, figsize=(16,7))\n",
        "\n",
        "\n",
        "diff = cv2.subtract(moon.astype('int16'), moon_lap_128.astype('int16'))\n",
        "diff = np.abs(diff)/2\n",
        "diff = diff.astype('uint8')\n",
        "\n",
        "summ= cv2.add(moon.astype('uint16'), moon_lap_128.astype('uint16'))\n",
        "summ = (summ/2).astype('uint8')\n",
        "\n",
        "ax1.imshow(moon)\n",
        "ax1.axis('off')\n",
        "ax1.set_title(\"obraz orginalny\")\n",
        "\n",
        "ax2.imshow(diff)\n",
        "ax2.axis('off')\n",
        "ax2.set_title(\"Różnica\")\n",
        "\n",
        "\n",
        "ax3.imshow(summ)\n",
        "ax3.axis('off')\n",
        "ax3.set_title(\"suma\")\n"
      ]
    },
    {
      "cell_type": "code",
      "source": [
        "\n",
        "diff = cv2.subtract(moon.astype('int16'), moon_lap_abs.astype('int16'))\n",
        "diff = np.abs(diff)\n",
        "diff = diff.astype('uint8')\n",
        "\n",
        "summ= cv2.add(moon.astype('uint16'), moon_lap_abs.astype('uint16'))\n",
        "summ = (summ/2).astype('uint8')\n",
        "\n",
        "\n",
        "fig, (ax1,ax2,ax3) = plt.subplots(1,3, figsize=(16,7))\n",
        "\n",
        "\n",
        "ax1.imshow(moon, vmin=0, vmax=256)\n",
        "ax1.axis('off')\n",
        "ax1.set_title(\"obraz orginalny\")\n",
        "\n",
        "ax2.imshow(diff, vmin=0, vmax=256)\n",
        "ax2.axis('off')\n",
        "ax2.set_title(\"Różnica\")\n",
        "\n",
        "\n",
        "ax3.imshow(summ, vmin=0, vmax=256)\n",
        "ax3.axis('off')\n",
        "ax3.set_title(\"suma\")"
      ],
      "metadata": {
        "id": "bN0gpimLt1si"
      },
      "execution_count": null,
      "outputs": []
    },
    {
      "cell_type": "markdown",
      "metadata": {
        "id": "jlWpYHbrPhlK"
      },
      "source": [
        "### Gradienty (wykorzystanie pierwszej pochodnej obrazu)\n",
        "\n",
        "1. Wczytaj obraz _kw.png_. Stwórz odpowiednie maski opisane w kolejnych punktach i dokonaj filtracji.\n",
        "2. Wykorzystując gradient Robertsa przeprowadź detekcję krawędzi - poprzez wykonanie konwolucji obrazu z daną maską:\n",
        "\\begin{equation}\n",
        "R1 = \\begin{bmatrix} 0 & 0 & 0 \\\\ -1 & 0 & 0 \\\\ 0 & 1 & 0 \\end{bmatrix}   \n",
        "R2 = \\begin{bmatrix} 0 & 0 & 0 \\\\ 0 & 0 & -1 \\\\ 0 & 1 & 0 \\end{bmatrix}\n",
        "\\tag{2}\n",
        "\\end{equation}\n",
        "\n",
        "Wykorzystaj stworzony wcześniej kod (przy laplasjanie) - dwie metody normalizacji oraz sposób wyświetlania.\n",
        "\n",
        "3. Analogicznie przeprowadź detekcję krawędzi za pomocą gradientu Prewitta (pionowy i poziomy)\n",
        "\\begin{equation}\n",
        "P1 = \\begin{bmatrix} -1 & 0 & 1 \\\\ -1 & 0 & 1 \\\\ -1 & 0 & 1 \\end{bmatrix}   \n",
        "P2 = \\begin{bmatrix} -1 & -1 & -1 \\\\ 0 & 0 & 0 \\\\ 1 & 1 & 1 \\end{bmatrix}\n",
        "\\tag{3}\n",
        "\\end{equation}\n",
        "\n",
        "4. Podobnie skonstruowany jest gradient Sobela (występuje osiem masek, zaprezentowane są dwie `prostopadłe`):\n",
        "\\begin{equation}\n",
        "S1 = \\begin{bmatrix} -1 & 0 & 1 \\\\ -2 & 0 & 2 \\\\ -1 & 0 & 1 \\end{bmatrix}   \n",
        "S2 = \\begin{bmatrix} -1 & -2 & -1 \\\\ 0 & 0 & 0 \\\\ 1 & 2 & 1 \\end{bmatrix}\n",
        "\\tag{4}\n",
        "\\end{equation}\n",
        "\n",
        "Przeprowadź detekcję krawędzi za pomocą gradientu Sobela. "
      ]
    },
    {
      "cell_type": "code",
      "execution_count": null,
      "metadata": {
        "scrolled": true,
        "id": "QBQG9efXPhlK"
      },
      "outputs": [],
      "source": [
        "moon = cv2.imread(\"kw.png\", cv2.IMREAD_GRAYSCALE)\n",
        "\n",
        "R1 = [[0,0,0],[-1,0,0],[0,1,0]]\n",
        "R1 = R1/np.sum(np.sum(np.abs(R1)))\n",
        "\n",
        "\n",
        "moon_lap = Mfilter(moon, R1)\n",
        "\n",
        "moon_lap_abs = (np.abs(moon_lap)/ np.max( np.abs(moon_lap)) * 255).astype('uint8')\n",
        "moon_lap_128 = moon_lap\n",
        "norm = np.zeros(moon_lap_128.shape[0], 'uint8')\n",
        "moon_lap_128 = cv2.normalize(moon_lap_128, norm, 0, 255,cv2.NORM_MINMAX)\n",
        "diff1=np.abs(moon_lap_abs-moon)\n",
        "diff2=np.abs(moon_lap_128-moon)\n",
        "\n",
        "\n",
        "fig, (ax1,ax2,ax3) = plt.subplots(1,3, figsize=(13,5))\n",
        "\n",
        "ax1.imshow(moon)\n",
        "ax1.axis('off')\n",
        "ax1.set_title(\"Obraz orginalny\")\n",
        "\n",
        "ax2.imshow(moon_lap_abs)\n",
        "ax2.axis('off')\n",
        "ax2.set_title(\"Wartość bezwzględna\")\n",
        "\n",
        "\n",
        "ax3.imshow(moon_lap_128)\n",
        "ax3.axis('off')\n",
        "ax3.set_title(\"+128\")"
      ]
    },
    {
      "cell_type": "code",
      "source": [
        "fig, (ax1,ax2,ax3) = plt.subplots(1,3, figsize=(16,7))\n",
        "\n",
        "\n",
        "diff = cv2.subtract(moon.astype('int16'), moon_lap_128.astype('int16'))\n",
        "diff = np.abs(diff)/2\n",
        "diff = diff.astype('uint8')\n",
        "\n",
        "summ= cv2.add(moon.astype('uint16'), moon_lap_128.astype('uint16'))\n",
        "summ = (summ/2).astype('uint8')\n",
        "\n",
        "ax1.imshow(moon)\n",
        "ax1.axis('off')\n",
        "ax1.set_title(\"obraz orginalny\")\n",
        "\n",
        "ax2.imshow(diff)\n",
        "ax2.axis('off')\n",
        "ax2.set_title(\"Różnica\")\n",
        "\n",
        "\n",
        "ax3.imshow(summ)\n",
        "ax3.axis('off')\n",
        "ax3.set_title(\"suma\")"
      ],
      "metadata": {
        "id": "IomYmVPXOPXS"
      },
      "execution_count": null,
      "outputs": []
    },
    {
      "cell_type": "code",
      "source": [
        "\n",
        "diff = cv2.subtract(moon.astype('int16'), moon_lap_abs.astype('int16'))\n",
        "diff = np.abs(diff)\n",
        "diff = diff.astype('uint8')\n",
        "\n",
        "summ= cv2.add(moon.astype('uint16'), moon_lap_abs.astype('uint16'))\n",
        "summ = (summ/2).astype('uint8')\n",
        "\n",
        "\n",
        "fig, (ax1,ax2,ax3) = plt.subplots(1,3, figsize=(16,7))\n",
        "\n",
        "\n",
        "ax1.imshow(moon)\n",
        "ax1.axis('off')\n",
        "ax1.set_title(\"obraz orginalny\")\n",
        "\n",
        "ax2.imshow(diff)\n",
        "ax2.axis('off')\n",
        "ax2.set_title(\"Różnica\")\n",
        "\n",
        "\n",
        "ax3.imshow(summ)\n",
        "ax3.axis('off')\n",
        "ax3.set_title(\"suma\")"
      ],
      "metadata": {
        "id": "GSy3VPkOAPjP"
      },
      "execution_count": null,
      "outputs": []
    },
    {
      "cell_type": "code",
      "source": [
        "def fun(moon, R1):\n",
        "    \n",
        "  moon_lap = Mfilter(moon, R1)\n",
        "\n",
        "  moon_lap_abs = (np.abs(moon_lap)/ np.max( np.abs(moon_lap)) * 255).astype('uint8')\n",
        "  moon_lap_128 = moon_lap + 128\n",
        "\n",
        "  fig, (ax1,ax2,ax3) = plt.subplots(1,3, figsize=(13,5))\n",
        "\n",
        "  ax1.imshow(moon)\n",
        "  ax1.axis('off')\n",
        "  ax1.set_title(\"Obraz orginalny\")\n",
        "\n",
        "  ax2.imshow(moon_lap_abs)\n",
        "  ax2.axis('off')\n",
        "  ax2.set_title(\"Wartość bezwzględna\")\n",
        "\n",
        "\n",
        "  ax3.imshow(moon_lap_128)\n",
        "  ax3.axis('off')\n",
        "  ax3.set_title(\"+128\")\n",
        "\n",
        "  fig, (ax1,ax2,ax3) = plt.subplots(1,3, figsize=(16,7))\n",
        "\n",
        "\n",
        "  diff = cv2.subtract(moon.astype('int16'), moon_lap_128.astype('int16'))\n",
        "  diff = np.abs(diff)/2\n",
        "  diff = diff.astype('uint8')\n",
        "\n",
        "  summ= cv2.add(moon.astype('uint16'), moon_lap_128.astype('uint16'))\n",
        "  summ = (summ/2).astype('uint8')\n",
        "\n",
        "  ax1.imshow(moon)\n",
        "  ax1.axis('off')\n",
        "  ax1.set_title(\"obraz orginalny\")\n",
        "\n",
        "  ax2.imshow(diff)\n",
        "  ax2.axis('off')\n",
        "  ax2.set_title(\"Różnica\")\n",
        "\n",
        "\n",
        "  ax3.imshow(summ)\n",
        "  ax3.axis('off')\n",
        "  ax3.set_title(\"suma\")\n",
        "\n",
        "  \n",
        "  diff = cv2.subtract(moon.astype('int16'), moon_lap_abs.astype('int16'))\n",
        "  diff = np.abs(diff)\n",
        "  diff = diff.astype('uint8')\n",
        "\n",
        "  summ= cv2.add(moon.astype('uint16'), moon_lap_abs.astype('uint16'))\n",
        "  summ = (summ/2).astype('uint8')\n",
        "\n",
        "\n",
        "  fig, (ax1,ax2,ax3) = plt.subplots(1,3, figsize=(16,7))\n",
        "\n",
        "\n",
        "  ax1.imshow(moon)\n",
        "  ax1.axis('off')\n",
        "  ax1.set_title(\"obraz orginalny\")\n",
        "\n",
        "  ax2.imshow(diff)\n",
        "  ax2.axis('off')\n",
        "  ax2.set_title(\"Różnica\")\n",
        "\n",
        "\n",
        "  ax3.imshow(summ)\n",
        "  ax3.axis('off')\n",
        "\n"
      ],
      "metadata": {
        "id": "PorJEZIzBOPj"
      },
      "execution_count": null,
      "outputs": []
    },
    {
      "cell_type": "code",
      "source": [
        "R2 = [[0,0,0],[0,0,-1],[0,1,0]]\n",
        "R2 = R2/np.sum(np.sum(np.abs(R2)))\n",
        "\n",
        "P1 = np.array([[-1, 0, 1], [-1, 0, 1], [-1, 0, 1]])\n",
        "P1 = P1/np.sum(np.sum(np.abs(P1)))\n",
        "\n",
        "P2 = np.array([[-1, -1, -1], [0, 0, 0], [1, 1, 1]])\n",
        "P2 = P2/np.sum(np.sum(np.abs(P2)))\n",
        "\n",
        "\n",
        "S1 = np.array([[-1, 0, 1], [-2, 0, 2], [-1, 0, 1]])\n",
        "S1 = S1/np.sum(np.sum(np.abs(S1)))\n",
        "\n",
        "S2 = np.array([[-1, -2, -1], [0, 0, 0], [1, 2, 1]])\n",
        "S2 = S2/np.sum(np.sum(np.abs(S2)))\n",
        "\n",
        "fun(moon, R2)\n"
      ],
      "metadata": {
        "id": "xaHrxr6eOyyZ"
      },
      "execution_count": null,
      "outputs": []
    },
    {
      "cell_type": "code",
      "source": [
        "fun(moon, R2)"
      ],
      "metadata": {
        "id": "SRXx62ubBwtO"
      },
      "execution_count": null,
      "outputs": []
    },
    {
      "cell_type": "code",
      "source": [
        "fun(moon, P1)"
      ],
      "metadata": {
        "id": "yA3gv1h0Bygb"
      },
      "execution_count": null,
      "outputs": []
    },
    {
      "cell_type": "code",
      "source": [
        "fun(moon, P2)"
      ],
      "metadata": {
        "id": "bTCay68bBy0h"
      },
      "execution_count": null,
      "outputs": []
    },
    {
      "cell_type": "code",
      "source": [
        "fun(moon, S1)"
      ],
      "metadata": {
        "id": "vKhXrS0HBzHb"
      },
      "execution_count": null,
      "outputs": []
    },
    {
      "cell_type": "code",
      "source": [
        "fun(moon, S2)"
      ],
      "metadata": {
        "id": "qu-Omcj3BzWg"
      },
      "execution_count": null,
      "outputs": []
    },
    {
      "cell_type": "code",
      "source": [
        ""
      ],
      "metadata": {
        "id": "4L9Pb78LBzlz"
      },
      "execution_count": null,
      "outputs": []
    },
    {
      "cell_type": "markdown",
      "metadata": {
        "id": "hXeVfNB6PhlK"
      },
      "source": [
        "5. Na podstawie dwóch ortogonalnych masek np. Sobela można stworzyć tzw. filtr kombinowany - pierwiastek kwadratowy z sumy kwadratów gradientów:\n",
        "\\begin{equation}\n",
        "OW = \\sqrt{(O * S1)^2 + (O * S2)^2}\n",
        "\\tag{5}\n",
        "\\end{equation}\n",
        "gdzie:  $OW$ - obraz wyjściowy, $O$ - obraz oryginalny (wejściowy), $S1,S2$ - maski Sobela, $*$ - operacja konwolucji.\n",
        "\n",
        "Zaimplementuj filtr kombinowany.\n",
        "\n",
        "Uwaga. Proszę zwrócić uwagę na konieczność zmiany formatu danych obrazu wejściowego - na typ znakiem\n",
        "\n"
      ]
    },
    {
      "cell_type": "code",
      "execution_count": null,
      "metadata": {
        "id": "Hw-wk5YuPhlK"
      },
      "outputs": [],
      "source": [
        "kw = cv2.imread(\"kw.png\", cv2.IMREAD_GRAYSCALE)\n",
        "kw=kw.astype('int16')\n",
        "\n",
        "I1=Mfilter(kw, S1)\n",
        "I2=Mfilter(kw, S2)\n",
        "\n",
        "I1=np.power(I1,2)\n",
        "I2=np.power(I2,2)\n",
        "\n",
        "OW=np.sqrt(I1 + I2).astype('uint8')\n",
        "\n",
        "show(OW)\n"
      ]
    },
    {
      "cell_type": "markdown",
      "metadata": {
        "id": "s8u4G7wnPhlL"
      },
      "source": [
        "6. Istnieje alternatywna wersja filtra kombinowanego, która zamiast pierwiastka z sumy kwadratów wykorzystuje sumę modułów (prostsze obliczenia). \n",
        "Zaimplementuj tę wersję. "
      ]
    },
    {
      "cell_type": "code",
      "execution_count": null,
      "metadata": {
        "scrolled": true,
        "id": "L-wjwK2xPhlL"
      },
      "outputs": [],
      "source": [
        "I1=Mfilter(kw, S1)\n",
        "I2=Mfilter(kw, S2)\n",
        "\n",
        "OW=((np.abs(I1) + np.abs(I2))/2).astype('uint8')\n",
        "\n",
        "show(OW)"
      ]
    },
    {
      "cell_type": "markdown",
      "metadata": {
        "id": "kWpfVMC7PhlL"
      },
      "source": [
        "7. Wczytaj plik _jet.png_ (zamiast _kw.png_).\n",
        "Sprawdź działanie obu wariantów filtracji kombinowanej."
      ]
    },
    {
      "cell_type": "code",
      "execution_count": null,
      "metadata": {
        "pycharm": {
          "name": "#%%\n"
        },
        "id": "C15yIbKXPhlL"
      },
      "outputs": [],
      "source": [
        "jet = cv2.imread(\"jet.png\", cv2.IMREAD_GRAYSCALE)\n",
        "jet=jet.astype('int16')\n",
        "\n",
        "I1=Mfilter(jet, S1)\n",
        "I2=Mfilter(jet, S2)\n",
        "\n",
        "I1=np.power(I1,2)\n",
        "I2=np.power(I2,2)\n",
        "\n",
        "OW=np.sqrt(I1 + I2).astype('uint8')\n",
        "\n",
        "show(OW)"
      ]
    },
    {
      "cell_type": "code",
      "source": [
        "I1=Mfilter(jet, S1)\n",
        "I2=Mfilter(jet, S2)\n",
        "\n",
        "OW=((np.abs(I1) + np.abs(I2))/2).astype('uint8')\n",
        "\n",
        "show(OW)"
      ],
      "metadata": {
        "id": "-qXvG95jENMX"
      },
      "execution_count": null,
      "outputs": []
    }
  ],
  "metadata": {
    "celltoolbar": "Raw Cell Format",
    "kernelspec": {
      "display_name": "Python 3",
      "language": "python",
      "name": "python3"
    },
    "language_info": {
      "codemirror_mode": {
        "name": "ipython",
        "version": 3
      },
      "file_extension": ".py",
      "mimetype": "text/x-python",
      "name": "python",
      "nbconvert_exporter": "python",
      "pygments_lexer": "ipython3",
      "version": "3.7.6"
    },
    "colab": {
      "name": "06_context.ipynb",
      "provenance": [],
      "collapsed_sections": []
    }
  },
  "nbformat": 4,
  "nbformat_minor": 0
}