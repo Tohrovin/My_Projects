{
  "cells": [
    {
      "cell_type": "markdown",
      "source": [
        "## Zadanie domowe: BBHE i DSIHE\n",
        "\n",
        "W klasycznym wyrównywaniu histogramu HE  po wykonaniu operacji jasność obrazu ulega zmianie.\n",
        "Dało się to zaobserwować podczas przeprowadzonych eksperymentów.\n",
        "Jeśli nie to należy uruchomić skrypt z sekcji A i zwrócić na to uwagę.\n",
        "Średnia jasność dąży do środkowego poziomu szarości.\n",
        "Jest to wada i dlatego klasyczne HE ma ograniczone zastosowanie.\n",
        "\n",
        "Powstało sporo metod, które eliminują to niekorzystne zjawisko.\n",
        "Najprostsze z nich polegają na dekompozycji obrazu wejściowego na dwa podobrazy (wg. pewnego kryterium).\n",
        "Następnie operacja HE wykonywana jest dla tych podobrazów.\n",
        "\n",
        "Dwie znane z literatury metody to:\n",
        "- Bi-Histogram Equalization\n",
        "- DSIHE - Dualistic Sub-Image Histogram Equalization\n",
        "\n",
        "W metodzie BBHE za kryterium podziału przyjmuje się średnią jasność w obrazie.\n",
        "W DSIHE obraz dzieli się na dwa podobrazy o takiej samej liczbie pikseli (jaśniejszych i ciemniejszych).\n",
        "\n",
        "W ramach zadania należy zaimplementować wybraną metodę: BBHE lub DSIHE (ew. obie).\n",
        "\n",
        "1. Wczytaj obraz *jet.bmp* i wylicz jego histogram.\n",
        "2. W kolejnym kroku należy wyznaczyć próg podziału obrazu na dwa podobrazy (*lm*).\n",
        "3. Dla BBHE wyznacz średnią jasność obrazu. Dla DSIHE można wykorzystać histogram skumulowany.\n",
        "Należy znaleźć poziom jasności który znajduje się \"w połowie\" histogramu skumulowanego.\n",
        "W tym celu warto stworzyć tablicę, zawierającą moduł histogramu skumulowanego pomniejszonego o połowę liczby pikseli.\n",
        "Następnie znaleźć minimum.\n",
        "4. Dalej należy podzielić histogram oryginalnego obrazu na dwa histogramy *H1* i *H2*.\n",
        "Dla każdego z nich wyliczyć histogram skumulowany ($C_1$ i $C_2$) i wykonać normalizację.\n",
        "Normalizacja polega na podzieleniu każdego histogramu przez jego największy element.\n",
        "5. Na podstawie histogramów skumulowanych należy stworzyć przekształcenie LUT.\n",
        "Należy tak przeskalować $C_1$ i $C_2$, aby uzyskać jednorodne przekształcenie.\n",
        "Tablicę $C_1$ wystarczy pomnożyć przez próg podziału.\n",
        "Tablicę $C_2$ należy przeskalować do przedziału: $<lm+1; 255>$, gdzie $lm$ jest progiem podziału.<br>\n",
        "$C_{1n} = (lm)*C1;$<br>\n",
        "$C_{2n} = lm+1 + (255-lm-1)*C2;$<br>\n",
        "Następnie dwie części tablicy przekodowań należy połączyć.\n",
        "6. Ostatecznie należy wykonać operację LUT i wyświetlić wynik wyrównywania histogramu.\n",
        "Porównaj wynik operacji BBHE lub DSIHE z klasycznym HE."
      ],
      "metadata": {
        "collapsed": false,
        "id": "zR5wBdlEhNVw"
      }
    },
    {
      "cell_type": "code",
      "execution_count": null,
      "outputs": [],
      "source": [
        "import cv2\n",
        "import os\n",
        "from matplotlib import pyplot as plt\n",
        "import numpy as np\n",
        "\n",
        "if not os.path.exists(\"jet.bmp\") :\n",
        "    !wget https://raw.githubusercontent.com/vision-agh/poc_sw/master/03_Histogram/jet.bmp --no-check-certificate\n",
        "\n",
        "jet = cv2.imread('jet.bmp',cv2.IMREAD_GRAYSCALE)\n",
        "hist = cv2.calcHist([jet],[0],None,[256],[0,256])\n",
        "\n",
        "c_sum = hist.cumsum()* hist.max()/hist.max()\n",
        "c_sum = c_sum \n"
      ],
      "metadata": {
        "pycharm": {
          "name": "#%% Zadanie domowe - BBHE\n"
        },
        "id": "DNTcFLpahNV6"
      }
    },
    {
      "cell_type": "code",
      "execution_count": null,
      "outputs": [],
      "source": [
        "#wyznaczenie progu przedziału\n",
        "lm = np.min(np.abs(c_sum - (jet.shape[0]/2*hist.max()/hist.max())))\n",
        "\n",
        "#rozdzielenie histogramu głównego na dwa histogramy\n",
        "hist21=hist[0:int(lm)]\n",
        "hist22=hist[int(lm):jet.shape[0]]\n",
        "\n",
        "#normalizacja histogramów skumulowanych\n",
        "cs1=hist21.cumsum()/np.max(hist21)\n",
        "cs2=hist22.cumsum()/np.max(hist22)\n",
        "\n",
        "#stworzenie przekształcenia LUT\n",
        "cs1= lm*cs1\n",
        "cs2= lm+1+(255-lm-1)*cs2\n",
        "\n",
        "#połączenie dwóch LUT w jeden (rozciagnięcie, aby wszystie wartości były uwzględniane)\n",
        "cs1_norm=cv2.normalize(cs1,None,0,lm,cv2.NORM_MINMAX)\n",
        "\n",
        "cs2_norm=cv2.normalize(cs2,None,lm,255,cv2.NORM_MINMAX)\n",
        "C=np.append(cs1_norm,cs2_norm)\n",
        "\n",
        "#przekształcenie\n",
        "transfor = cv2.LUT(jet,C)\n",
        "transforH = cv2.calcHist(transfor,[0],None,[256],[0,256])\n",
        "\n",
        "\n",
        "\n",
        "fig, axs = plt.subplots(1, 2)\n",
        "\n",
        "fig.set_size_inches(10, 5)\n",
        "axs[0].imshow(jet, 'gray', vmin=0, vmax=256)\n",
        "axs[0].axis('off')\n",
        "axs[1].plot(hist)\n",
        "axs[1].grid()\n",
        "axs[1].set_title(\"histogram orginalny\")\n",
        "axs[0].set_title(\"obraz orginalny\")\n",
        "plt.show()\n",
        "\n",
        "\n",
        "fig, axs = plt.subplots(1, 2)\n",
        "\n",
        "fig.set_size_inches(10, 5)\n",
        "axs[0].imshow(transfor, 'gray', vmin=0, vmax=256)\n",
        "axs[0].axis('off')\n",
        "axs[1].plot(transforH)\n",
        "axs[1].grid()\n",
        "axs[1].set_title(\"histogram DSIHE\")\n",
        "axs[0].set_title(\"obraz DSIHE\")\n",
        "plt.show()\n",
        "\n",
        "\n",
        "\n",
        "jetHE = cv2.equalizeHist(jet)\n",
        "jetHEH = cv2.calcHist(jetHE,[0],None,[256],[0,256])\n",
        "\n",
        "fig, axs = plt.subplots(1, 2)\n",
        "\n",
        "fig.set_size_inches(10, 5)\n",
        "axs[0].imshow(jetHE, 'gray', vmin=0, vmax=256)\n",
        "axs[0].axis('off')\n",
        "axs[1].plot(jetHEH)\n",
        "axs[1].grid()\n",
        "axs[1].set_title(\"histogram HE\")\n",
        "axs[0].set_title(\"obraz HE\")\n",
        "plt.show()\n",
        "\n",
        "\n"
      ],
      "metadata": {
        "pycharm": {
          "name": "#%% Zadanie domowe - DSIHE\n"
        },
        "id": "QqKcOVJ5hNV9"
      }
    },
    {
      "cell_type": "code",
      "source": [
        "#obraz po przekształceniu DSIHE ma mniejszy, bardziej naturalny kontrast od obrazu po przekształćeniu HE. Z histogrmów można odczytać\n",
        "#że obraz DSIHE ma więcej pikseli o wartośći około 85 (histogram bardziej rozciągnięty w górę)"
      ],
      "metadata": {
        "id": "WqbiIG7NKUAQ"
      },
      "execution_count": null,
      "outputs": []
    }
  ],
  "metadata": {
    "kernelspec": {
      "display_name": "Python 3",
      "language": "python",
      "name": "python3"
    },
    "language_info": {
      "codemirror_mode": {
        "name": "ipython",
        "version": 2
      },
      "file_extension": ".py",
      "mimetype": "text/x-python",
      "name": "python",
      "nbconvert_exporter": "python",
      "pygments_lexer": "ipython2",
      "version": "2.7.6"
    },
    "colab": {
      "name": "03_histogram_hw.ipynb",
      "provenance": [],
      "collapsed_sections": []
    }
  },
  "nbformat": 4,
  "nbformat_minor": 0
}